{
 "metadata": {
  "language_info": {
   "codemirror_mode": {
    "name": "ipython",
    "version": 3
   },
   "file_extension": ".py",
   "mimetype": "text/x-python",
   "name": "python",
   "nbconvert_exporter": "python",
   "pygments_lexer": "ipython3",
   "version": "3.8.5"
  },
  "orig_nbformat": 2,
  "kernelspec": {
   "name": "python385jvsc74a57bd0c057283103631fcb6138dc5fda6d5179eedea6a3f838b7df28863890810253db",
   "display_name": "Python 3.8.5 64-bit ('base': conda)"
  }
 },
 "nbformat": 4,
 "nbformat_minor": 2,
 "cells": [
  {
   "source": [
    "REGRESSION PROJECT NOTEBOOK\n",
    "\n",
    "* This notebook can be updated by all in the team"
   ],
   "cell_type": "markdown",
   "metadata": {}
  },
  {
   "cell_type": "code",
   "execution_count": 5,
   "metadata": {},
   "outputs": [
    {
     "output_type": "display_data",
     "data": {
      "text/plain": "                   Province Container Size_Grade  Weight_Kg  \\\nIndex                                                         \n1      W.CAPE-BERGRIVER ETC     EC120         1M       12.0   \n2      W.CAPE-BERGRIVER ETC     M4183         1X       18.3   \n3      W.CAPE-BERGRIVER ETC     EC120         1S       12.0   \n4      W.CAPE-BERGRIVER ETC     M4183         1M       18.3   \n5      W.CAPE-BERGRIVER ETC     M4183         1L       18.3   \n...                     ...       ...        ...        ...   \n681    W.CAPE-BERGRIVER ETC     JE090         2S        9.0   \n682                    CAPE     EC120         1M       12.0   \n683    W.CAPE-BERGRIVER ETC     JE090         2X        9.0   \n684                    CAPE     M4183         1S       18.3   \n685                    CAPE     M4183         1S       18.3   \n\n                  Commodities        Date  Low_Price  High_Price  Sales_Total  \\\nIndex                                                                           \n1      APPLE GOLDEN DELICIOUS  2020-07-09      128.0       136.0       5008.0   \n2      APPLE GOLDEN DELICIOUS  2020-01-20      220.0       220.0       1760.0   \n3      APPLE GOLDEN DELICIOUS  2020-08-19      120.0       120.0        720.0   \n4      APPLE GOLDEN DELICIOUS  2020-05-06      160.0       160.0        160.0   \n5      APPLE GOLDEN DELICIOUS  2020-05-04      140.0       160.0      14140.0   \n...                       ...         ...        ...         ...          ...   \n681    APPLE GOLDEN DELICIOUS  2020-05-26       30.0        30.0       1320.0   \n682    APPLE GOLDEN DELICIOUS  2020-01-10       50.0       132.0       6290.0   \n683    APPLE GOLDEN DELICIOUS  2020-06-03       55.0        55.0        220.0   \n684    APPLE GOLDEN DELICIOUS  2020-02-22      120.0       150.0      27840.0   \n685    APPLE GOLDEN DELICIOUS  2020-03-04      120.0       160.0      71010.0   \n\n       Total_Qty_Sold  Total_Kg_Sold  Stock_On_Hand  \nIndex                                                \n1                  38          456.0              0  \n2                   8          146.4              2  \n3                   6           72.0             45  \n4                   1           18.3              8  \n5                 100         1830.0             19  \n...               ...            ...            ...  \n681                44          396.0            856  \n682                52          624.0            785  \n683                 4           36.0            170  \n684               202         3696.6              0  \n685               491         8985.3              0  \n\n[685 rows x 12 columns]",
      "text/html": "<div>\n<style scoped>\n    .dataframe tbody tr th:only-of-type {\n        vertical-align: middle;\n    }\n\n    .dataframe tbody tr th {\n        vertical-align: top;\n    }\n\n    .dataframe thead th {\n        text-align: right;\n    }\n</style>\n<table border=\"1\" class=\"dataframe\">\n  <thead>\n    <tr style=\"text-align: right;\">\n      <th></th>\n      <th>Province</th>\n      <th>Container</th>\n      <th>Size_Grade</th>\n      <th>Weight_Kg</th>\n      <th>Commodities</th>\n      <th>Date</th>\n      <th>Low_Price</th>\n      <th>High_Price</th>\n      <th>Sales_Total</th>\n      <th>Total_Qty_Sold</th>\n      <th>Total_Kg_Sold</th>\n      <th>Stock_On_Hand</th>\n    </tr>\n    <tr>\n      <th>Index</th>\n      <th></th>\n      <th></th>\n      <th></th>\n      <th></th>\n      <th></th>\n      <th></th>\n      <th></th>\n      <th></th>\n      <th></th>\n      <th></th>\n      <th></th>\n      <th></th>\n    </tr>\n  </thead>\n  <tbody>\n    <tr>\n      <th>1</th>\n      <td>W.CAPE-BERGRIVER ETC</td>\n      <td>EC120</td>\n      <td>1M</td>\n      <td>12.0</td>\n      <td>APPLE GOLDEN DELICIOUS</td>\n      <td>2020-07-09</td>\n      <td>128.0</td>\n      <td>136.0</td>\n      <td>5008.0</td>\n      <td>38</td>\n      <td>456.0</td>\n      <td>0</td>\n    </tr>\n    <tr>\n      <th>2</th>\n      <td>W.CAPE-BERGRIVER ETC</td>\n      <td>M4183</td>\n      <td>1X</td>\n      <td>18.3</td>\n      <td>APPLE GOLDEN DELICIOUS</td>\n      <td>2020-01-20</td>\n      <td>220.0</td>\n      <td>220.0</td>\n      <td>1760.0</td>\n      <td>8</td>\n      <td>146.4</td>\n      <td>2</td>\n    </tr>\n    <tr>\n      <th>3</th>\n      <td>W.CAPE-BERGRIVER ETC</td>\n      <td>EC120</td>\n      <td>1S</td>\n      <td>12.0</td>\n      <td>APPLE GOLDEN DELICIOUS</td>\n      <td>2020-08-19</td>\n      <td>120.0</td>\n      <td>120.0</td>\n      <td>720.0</td>\n      <td>6</td>\n      <td>72.0</td>\n      <td>45</td>\n    </tr>\n    <tr>\n      <th>4</th>\n      <td>W.CAPE-BERGRIVER ETC</td>\n      <td>M4183</td>\n      <td>1M</td>\n      <td>18.3</td>\n      <td>APPLE GOLDEN DELICIOUS</td>\n      <td>2020-05-06</td>\n      <td>160.0</td>\n      <td>160.0</td>\n      <td>160.0</td>\n      <td>1</td>\n      <td>18.3</td>\n      <td>8</td>\n    </tr>\n    <tr>\n      <th>5</th>\n      <td>W.CAPE-BERGRIVER ETC</td>\n      <td>M4183</td>\n      <td>1L</td>\n      <td>18.3</td>\n      <td>APPLE GOLDEN DELICIOUS</td>\n      <td>2020-05-04</td>\n      <td>140.0</td>\n      <td>160.0</td>\n      <td>14140.0</td>\n      <td>100</td>\n      <td>1830.0</td>\n      <td>19</td>\n    </tr>\n    <tr>\n      <th>...</th>\n      <td>...</td>\n      <td>...</td>\n      <td>...</td>\n      <td>...</td>\n      <td>...</td>\n      <td>...</td>\n      <td>...</td>\n      <td>...</td>\n      <td>...</td>\n      <td>...</td>\n      <td>...</td>\n      <td>...</td>\n    </tr>\n    <tr>\n      <th>681</th>\n      <td>W.CAPE-BERGRIVER ETC</td>\n      <td>JE090</td>\n      <td>2S</td>\n      <td>9.0</td>\n      <td>APPLE GOLDEN DELICIOUS</td>\n      <td>2020-05-26</td>\n      <td>30.0</td>\n      <td>30.0</td>\n      <td>1320.0</td>\n      <td>44</td>\n      <td>396.0</td>\n      <td>856</td>\n    </tr>\n    <tr>\n      <th>682</th>\n      <td>CAPE</td>\n      <td>EC120</td>\n      <td>1M</td>\n      <td>12.0</td>\n      <td>APPLE GOLDEN DELICIOUS</td>\n      <td>2020-01-10</td>\n      <td>50.0</td>\n      <td>132.0</td>\n      <td>6290.0</td>\n      <td>52</td>\n      <td>624.0</td>\n      <td>785</td>\n    </tr>\n    <tr>\n      <th>683</th>\n      <td>W.CAPE-BERGRIVER ETC</td>\n      <td>JE090</td>\n      <td>2X</td>\n      <td>9.0</td>\n      <td>APPLE GOLDEN DELICIOUS</td>\n      <td>2020-06-03</td>\n      <td>55.0</td>\n      <td>55.0</td>\n      <td>220.0</td>\n      <td>4</td>\n      <td>36.0</td>\n      <td>170</td>\n    </tr>\n    <tr>\n      <th>684</th>\n      <td>CAPE</td>\n      <td>M4183</td>\n      <td>1S</td>\n      <td>18.3</td>\n      <td>APPLE GOLDEN DELICIOUS</td>\n      <td>2020-02-22</td>\n      <td>120.0</td>\n      <td>150.0</td>\n      <td>27840.0</td>\n      <td>202</td>\n      <td>3696.6</td>\n      <td>0</td>\n    </tr>\n    <tr>\n      <th>685</th>\n      <td>CAPE</td>\n      <td>M4183</td>\n      <td>1S</td>\n      <td>18.3</td>\n      <td>APPLE GOLDEN DELICIOUS</td>\n      <td>2020-03-04</td>\n      <td>120.0</td>\n      <td>160.0</td>\n      <td>71010.0</td>\n      <td>491</td>\n      <td>8985.3</td>\n      <td>0</td>\n    </tr>\n  </tbody>\n</table>\n<p>685 rows × 12 columns</p>\n</div>"
     },
     "metadata": {}
    },
    {
     "output_type": "stream",
     "name": "stdout",
     "text": [
      "<class 'pandas.core.frame.DataFrame'>\nInt64Index: 685 entries, 1 to 685\nData columns (total 12 columns):\n #   Column          Non-Null Count  Dtype  \n---  ------          --------------  -----  \n 0   Province        685 non-null    object \n 1   Container       685 non-null    object \n 2   Size_Grade      685 non-null    object \n 3   Weight_Kg       685 non-null    float64\n 4   Commodities     685 non-null    object \n 5   Date            685 non-null    object \n 6   Low_Price       685 non-null    float64\n 7   High_Price      685 non-null    float64\n 8   Sales_Total     685 non-null    float64\n 9   Total_Qty_Sold  685 non-null    int64  \n 10  Total_Kg_Sold   685 non-null    float64\n 11  Stock_On_Hand   685 non-null    int64  \ndtypes: float64(5), int64(2), object(5)\nmemory usage: 69.6+ KB\nNone\n"
     ]
    }
   ],
   "source": [
    "#Lets have a look at our data \n",
    "import pandas as pd\n",
    "\n",
    "df_test = pd.read_csv('df-test_set.csv', index_col=0)\n",
    "\n",
    "display(df_test) #general overview\n",
    "print(df_test.info()) #better insight into the datatype for each column"
   ]
  },
  {
   "cell_type": "code",
   "execution_count": 9,
   "metadata": {},
   "outputs": [
    {
     "output_type": "display_data",
     "data": {
      "text/plain": "                    Province Container Size_Grade  Weight_Kg  \\\n0                       CAPE     EC120         1L       12.0   \n1                       CAPE     M4183         1L       18.3   \n2                    GAUTENG     AT200         1L       20.0   \n3                  TRANSVAAL     BJ090         1L        9.0   \n4          WESTERN FREESTATE     PP100         1R       10.0   \n...                      ...       ...        ...        ...   \n64371              TRANSVAAL     AG100         1M       10.0   \n64372  IMPORTS - OUTSIDE RSA     BC180          X       18.0   \n64373              TRANSVAAL     TS035         1M        3.5   \n64374                  NATAL     BJ100         2M       10.0   \n64375                   CAPE     M4183         1L       18.3   \n\n                  Commodities        Date  Low_Price  High_Price  Sales_Total  \\\n0          APPLE GRANNY SMITH  2020-03-10      108.0       112.0       3236.0   \n1      APPLE GOLDEN DELICIOUS  2020-09-09      150.0       170.0      51710.0   \n2           AVOCADO PINKERTON  2020-05-05       70.0        80.0       4860.0   \n3          TOMATOES-LONG LIFE  2020-01-20       60.0        60.0        600.0   \n4       POTATO SIFRA (WASHED)  2020-07-14       40.0        45.0      41530.0   \n...                       ...         ...        ...         ...          ...   \n64371             ONIONS MILD  2020-05-18       70.0        75.0      19695.0   \n64372                  BANANA  2020-02-05      160.0       220.0      13560.0   \n64373      TOMATOES-LONG LIFE  2020-08-20       20.0        20.0       6000.0   \n64374                   LEMON  2020-08-18       50.0        80.0      16730.0   \n64375              APPLE FUJI  2020-08-06      150.0       150.0        150.0   \n\n       Total_Qty_Sold  Total_Kg_Sold  Stock_On_Hand  avg_price_per_kg  \n0                  29          348.0              0              9.30  \n1                 332         6075.6            822              8.51  \n2                  66         1320.0             50              3.68  \n3                  10           90.0              0              6.67  \n4                 927         9270.0            393              4.48  \n...               ...            ...            ...               ...  \n64371             281         2810.0           3583              7.01  \n64372              72         1296.0            887             10.46  \n64373             300         1050.0            900              5.71  \n64374             277         2770.0            372              6.04  \n64375               1           18.3              1              8.20  \n\n[64376 rows x 13 columns]",
      "text/html": "<div>\n<style scoped>\n    .dataframe tbody tr th:only-of-type {\n        vertical-align: middle;\n    }\n\n    .dataframe tbody tr th {\n        vertical-align: top;\n    }\n\n    .dataframe thead th {\n        text-align: right;\n    }\n</style>\n<table border=\"1\" class=\"dataframe\">\n  <thead>\n    <tr style=\"text-align: right;\">\n      <th></th>\n      <th>Province</th>\n      <th>Container</th>\n      <th>Size_Grade</th>\n      <th>Weight_Kg</th>\n      <th>Commodities</th>\n      <th>Date</th>\n      <th>Low_Price</th>\n      <th>High_Price</th>\n      <th>Sales_Total</th>\n      <th>Total_Qty_Sold</th>\n      <th>Total_Kg_Sold</th>\n      <th>Stock_On_Hand</th>\n      <th>avg_price_per_kg</th>\n    </tr>\n  </thead>\n  <tbody>\n    <tr>\n      <th>0</th>\n      <td>CAPE</td>\n      <td>EC120</td>\n      <td>1L</td>\n      <td>12.0</td>\n      <td>APPLE GRANNY SMITH</td>\n      <td>2020-03-10</td>\n      <td>108.0</td>\n      <td>112.0</td>\n      <td>3236.0</td>\n      <td>29</td>\n      <td>348.0</td>\n      <td>0</td>\n      <td>9.30</td>\n    </tr>\n    <tr>\n      <th>1</th>\n      <td>CAPE</td>\n      <td>M4183</td>\n      <td>1L</td>\n      <td>18.3</td>\n      <td>APPLE GOLDEN DELICIOUS</td>\n      <td>2020-09-09</td>\n      <td>150.0</td>\n      <td>170.0</td>\n      <td>51710.0</td>\n      <td>332</td>\n      <td>6075.6</td>\n      <td>822</td>\n      <td>8.51</td>\n    </tr>\n    <tr>\n      <th>2</th>\n      <td>GAUTENG</td>\n      <td>AT200</td>\n      <td>1L</td>\n      <td>20.0</td>\n      <td>AVOCADO PINKERTON</td>\n      <td>2020-05-05</td>\n      <td>70.0</td>\n      <td>80.0</td>\n      <td>4860.0</td>\n      <td>66</td>\n      <td>1320.0</td>\n      <td>50</td>\n      <td>3.68</td>\n    </tr>\n    <tr>\n      <th>3</th>\n      <td>TRANSVAAL</td>\n      <td>BJ090</td>\n      <td>1L</td>\n      <td>9.0</td>\n      <td>TOMATOES-LONG LIFE</td>\n      <td>2020-01-20</td>\n      <td>60.0</td>\n      <td>60.0</td>\n      <td>600.0</td>\n      <td>10</td>\n      <td>90.0</td>\n      <td>0</td>\n      <td>6.67</td>\n    </tr>\n    <tr>\n      <th>4</th>\n      <td>WESTERN FREESTATE</td>\n      <td>PP100</td>\n      <td>1R</td>\n      <td>10.0</td>\n      <td>POTATO SIFRA (WASHED)</td>\n      <td>2020-07-14</td>\n      <td>40.0</td>\n      <td>45.0</td>\n      <td>41530.0</td>\n      <td>927</td>\n      <td>9270.0</td>\n      <td>393</td>\n      <td>4.48</td>\n    </tr>\n    <tr>\n      <th>...</th>\n      <td>...</td>\n      <td>...</td>\n      <td>...</td>\n      <td>...</td>\n      <td>...</td>\n      <td>...</td>\n      <td>...</td>\n      <td>...</td>\n      <td>...</td>\n      <td>...</td>\n      <td>...</td>\n      <td>...</td>\n      <td>...</td>\n    </tr>\n    <tr>\n      <th>64371</th>\n      <td>TRANSVAAL</td>\n      <td>AG100</td>\n      <td>1M</td>\n      <td>10.0</td>\n      <td>ONIONS MILD</td>\n      <td>2020-05-18</td>\n      <td>70.0</td>\n      <td>75.0</td>\n      <td>19695.0</td>\n      <td>281</td>\n      <td>2810.0</td>\n      <td>3583</td>\n      <td>7.01</td>\n    </tr>\n    <tr>\n      <th>64372</th>\n      <td>IMPORTS - OUTSIDE RSA</td>\n      <td>BC180</td>\n      <td>X</td>\n      <td>18.0</td>\n      <td>BANANA</td>\n      <td>2020-02-05</td>\n      <td>160.0</td>\n      <td>220.0</td>\n      <td>13560.0</td>\n      <td>72</td>\n      <td>1296.0</td>\n      <td>887</td>\n      <td>10.46</td>\n    </tr>\n    <tr>\n      <th>64373</th>\n      <td>TRANSVAAL</td>\n      <td>TS035</td>\n      <td>1M</td>\n      <td>3.5</td>\n      <td>TOMATOES-LONG LIFE</td>\n      <td>2020-08-20</td>\n      <td>20.0</td>\n      <td>20.0</td>\n      <td>6000.0</td>\n      <td>300</td>\n      <td>1050.0</td>\n      <td>900</td>\n      <td>5.71</td>\n    </tr>\n    <tr>\n      <th>64374</th>\n      <td>NATAL</td>\n      <td>BJ100</td>\n      <td>2M</td>\n      <td>10.0</td>\n      <td>LEMON</td>\n      <td>2020-08-18</td>\n      <td>50.0</td>\n      <td>80.0</td>\n      <td>16730.0</td>\n      <td>277</td>\n      <td>2770.0</td>\n      <td>372</td>\n      <td>6.04</td>\n    </tr>\n    <tr>\n      <th>64375</th>\n      <td>CAPE</td>\n      <td>M4183</td>\n      <td>1L</td>\n      <td>18.3</td>\n      <td>APPLE FUJI</td>\n      <td>2020-08-06</td>\n      <td>150.0</td>\n      <td>150.0</td>\n      <td>150.0</td>\n      <td>1</td>\n      <td>18.3</td>\n      <td>1</td>\n      <td>8.20</td>\n    </tr>\n  </tbody>\n</table>\n<p>64376 rows × 13 columns</p>\n</div>"
     },
     "metadata": {}
    },
    {
     "output_type": "stream",
     "name": "stdout",
     "text": [
      "<class 'pandas.core.frame.DataFrame'>\nRangeIndex: 64376 entries, 0 to 64375\nData columns (total 13 columns):\n #   Column            Non-Null Count  Dtype  \n---  ------            --------------  -----  \n 0   Province          64376 non-null  object \n 1   Container         64376 non-null  object \n 2   Size_Grade        64376 non-null  object \n 3   Weight_Kg         64376 non-null  float64\n 4   Commodities       64376 non-null  object \n 5   Date              64376 non-null  object \n 6   Low_Price         64376 non-null  float64\n 7   High_Price        64376 non-null  float64\n 8   Sales_Total       64376 non-null  float64\n 9   Total_Qty_Sold    64376 non-null  int64  \n 10  Total_Kg_Sold     64376 non-null  float64\n 11  Stock_On_Hand     64376 non-null  int64  \n 12  avg_price_per_kg  64376 non-null  float64\ndtypes: float64(6), int64(2), object(5)\nmemory usage: 6.4+ MB\nNone\n"
     ]
    }
   ],
   "source": [
    "df_train = pd.read_csv('df-train_set.csv')\n",
    "\n",
    "display(df_train)\n",
    "print(df_train.info())"
   ]
  },
  {
   "cell_type": "code",
   "execution_count": 11,
   "metadata": {},
   "outputs": [
    {
     "output_type": "execute_result",
     "data": {
      "text/plain": [
       "   Index  avg_price_per_kg\n",
       "0      1             13.94\n",
       "1      2              1.30"
      ],
      "text/html": "<div>\n<style scoped>\n    .dataframe tbody tr th:only-of-type {\n        vertical-align: middle;\n    }\n\n    .dataframe tbody tr th {\n        vertical-align: top;\n    }\n\n    .dataframe thead th {\n        text-align: right;\n    }\n</style>\n<table border=\"1\" class=\"dataframe\">\n  <thead>\n    <tr style=\"text-align: right;\">\n      <th></th>\n      <th>Index</th>\n      <th>avg_price_per_kg</th>\n    </tr>\n  </thead>\n  <tbody>\n    <tr>\n      <th>0</th>\n      <td>1</td>\n      <td>13.94</td>\n    </tr>\n    <tr>\n      <th>1</th>\n      <td>2</td>\n      <td>1.30</td>\n    </tr>\n  </tbody>\n</table>\n</div>"
     },
     "metadata": {},
     "execution_count": 11
    }
   ],
   "source": [
    "sample = pd.read_csv('sample_submission.csv')\n",
    "\n",
    "sample #our end result should look somethng similar"
   ]
  },
  {
   "cell_type": "code",
   "execution_count": null,
   "metadata": {},
   "outputs": [],
   "source": []
  }
 ]
}