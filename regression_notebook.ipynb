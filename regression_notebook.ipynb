{
 "metadata": {
  "language_info": {
   "codemirror_mode": {
    "name": "ipython",
    "version": 3
   },
   "file_extension": ".py",
   "mimetype": "text/x-python",
   "name": "python",
   "nbconvert_exporter": "python",
   "pygments_lexer": "ipython3",
   "version": "3.8.5"
  },
  "orig_nbformat": 2,
  "kernelspec": {
   "name": "python385jvsc74a57bd0c057283103631fcb6138dc5fda6d5179eedea6a3f838b7df28863890810253db",
   "display_name": "Python 3.8.5 64-bit ('base': conda)"
  }
 },
 "nbformat": 4,
 "nbformat_minor": 2,
 "cells": [
  {
   "cell_type": "code",
   "execution_count": 155,
   "metadata": {},
   "outputs": [],
   "source": [
    "#importing all necessary data\n",
    "import pandas as pd\n",
    "import numpy as np \n",
    "import matplotlib.pyplot as plt \n",
    "import seaborn as sns\n",
    "%matplotlib inline\n",
    "\n",
    "# calculation pakages and other\n",
    "from scipy import stats\n",
    "import math\n",
    "import pickle\n",
    "\n",
    "# Regression models\n",
    "from sklearn.linear_model import LinearRegression\n",
    "from sklearn.linear_model import LogisticRegression\n",
    "\n",
    "# Model slection\n",
    "from sklearn.model_selection import train_test_split\n",
    "\n",
    "# Preprocessing\n",
    "from sklearn.preprocessing import StandardScaler\n",
    "\n",
    "# Metrics\n",
    "from sklearn.metrics import r2_score\n",
    "from sklearn.metrics import mean_squared_error"
   ]
  },
  {
   "cell_type": "code",
   "execution_count": 77,
   "metadata": {},
   "outputs": [
    {
     "output_type": "execute_result",
     "data": {
      "text/plain": [
       "                Province Container Size_Grade  Weight_Kg  \\\n",
       "1                   CAPE     M4183         1L       18.3   \n",
       "7                   CAPE     JG110         2M       11.0   \n",
       "24  W.CAPE-BERGRIVER ETC     JE090         2S        9.0   \n",
       "40                  CAPE     M4183         1S       18.3   \n",
       "69          EASTERN CAPE     IA400         1S      400.0   \n",
       "\n",
       "               Commodities        Date  Low_Price  High_Price  Sales_Total  \\\n",
       "1   APPLE GOLDEN DELICIOUS  2020-09-09      150.0       170.0      51710.0   \n",
       "7   APPLE GOLDEN DELICIOUS  2020-04-14       50.0        50.0      16000.0   \n",
       "24  APPLE GOLDEN DELICIOUS  2020-04-16       55.0        55.0        990.0   \n",
       "40  APPLE GOLDEN DELICIOUS  2020-05-04       80.0       120.0      32020.0   \n",
       "69  APPLE GOLDEN DELICIOUS  2020-09-28     1800.0      1800.0       1800.0   \n",
       "\n",
       "    Total_Qty_Sold  Total_Kg_Sold  Stock_On_Hand  avg_price_per_kg  \n",
       "1              332         6075.6            822              8.51  \n",
       "7              320         3520.0              0              4.55  \n",
       "24              18          162.0           1506              6.11  \n",
       "40             388         7100.4            443              4.51  \n",
       "69               1          400.0              2              4.50  "
      ],
      "text/html": "<div>\n<style scoped>\n    .dataframe tbody tr th:only-of-type {\n        vertical-align: middle;\n    }\n\n    .dataframe tbody tr th {\n        vertical-align: top;\n    }\n\n    .dataframe thead th {\n        text-align: right;\n    }\n</style>\n<table border=\"1\" class=\"dataframe\">\n  <thead>\n    <tr style=\"text-align: right;\">\n      <th></th>\n      <th>Province</th>\n      <th>Container</th>\n      <th>Size_Grade</th>\n      <th>Weight_Kg</th>\n      <th>Commodities</th>\n      <th>Date</th>\n      <th>Low_Price</th>\n      <th>High_Price</th>\n      <th>Sales_Total</th>\n      <th>Total_Qty_Sold</th>\n      <th>Total_Kg_Sold</th>\n      <th>Stock_On_Hand</th>\n      <th>avg_price_per_kg</th>\n    </tr>\n  </thead>\n  <tbody>\n    <tr>\n      <th>1</th>\n      <td>CAPE</td>\n      <td>M4183</td>\n      <td>1L</td>\n      <td>18.3</td>\n      <td>APPLE GOLDEN DELICIOUS</td>\n      <td>2020-09-09</td>\n      <td>150.0</td>\n      <td>170.0</td>\n      <td>51710.0</td>\n      <td>332</td>\n      <td>6075.6</td>\n      <td>822</td>\n      <td>8.51</td>\n    </tr>\n    <tr>\n      <th>7</th>\n      <td>CAPE</td>\n      <td>JG110</td>\n      <td>2M</td>\n      <td>11.0</td>\n      <td>APPLE GOLDEN DELICIOUS</td>\n      <td>2020-04-14</td>\n      <td>50.0</td>\n      <td>50.0</td>\n      <td>16000.0</td>\n      <td>320</td>\n      <td>3520.0</td>\n      <td>0</td>\n      <td>4.55</td>\n    </tr>\n    <tr>\n      <th>24</th>\n      <td>W.CAPE-BERGRIVER ETC</td>\n      <td>JE090</td>\n      <td>2S</td>\n      <td>9.0</td>\n      <td>APPLE GOLDEN DELICIOUS</td>\n      <td>2020-04-16</td>\n      <td>55.0</td>\n      <td>55.0</td>\n      <td>990.0</td>\n      <td>18</td>\n      <td>162.0</td>\n      <td>1506</td>\n      <td>6.11</td>\n    </tr>\n    <tr>\n      <th>40</th>\n      <td>CAPE</td>\n      <td>M4183</td>\n      <td>1S</td>\n      <td>18.3</td>\n      <td>APPLE GOLDEN DELICIOUS</td>\n      <td>2020-05-04</td>\n      <td>80.0</td>\n      <td>120.0</td>\n      <td>32020.0</td>\n      <td>388</td>\n      <td>7100.4</td>\n      <td>443</td>\n      <td>4.51</td>\n    </tr>\n    <tr>\n      <th>69</th>\n      <td>EASTERN CAPE</td>\n      <td>IA400</td>\n      <td>1S</td>\n      <td>400.0</td>\n      <td>APPLE GOLDEN DELICIOUS</td>\n      <td>2020-09-28</td>\n      <td>1800.0</td>\n      <td>1800.0</td>\n      <td>1800.0</td>\n      <td>1</td>\n      <td>400.0</td>\n      <td>2</td>\n      <td>4.50</td>\n    </tr>\n  </tbody>\n</table>\n</div>"
     },
     "metadata": {},
     "execution_count": 77
    }
   ],
   "source": [
    "#getting the data and viewing infomation\n",
    "# isolating only apples we want \n",
    "train_df = pd.read_csv('df-train_set.csv')\n",
    "df = train_df[train_df['Commodities'] == 'APPLE GOLDEN DELICIOUS']\n",
    "test_df = pd.read_csv('df-test_set.csv')\n",
    "test_id = test_df['Index']\n",
    "test_df = test_df.drop('Index', axis=1)\n",
    "\n",
    "\n",
    "df.head()"
   ]
  },
  {
   "cell_type": "code",
   "execution_count": 12,
   "metadata": {},
   "outputs": [
    {
     "output_type": "stream",
     "name": "stdout",
     "text": [
      "<class 'pandas.core.frame.DataFrame'>\nInt64Index: 1952 entries, 1 to 64310\nData columns (total 13 columns):\n #   Column            Non-Null Count  Dtype  \n---  ------            --------------  -----  \n 0   Province          1952 non-null   object \n 1   Container         1952 non-null   object \n 2   Size_Grade        1952 non-null   object \n 3   Weight_Kg         1952 non-null   float64\n 4   Commodities       1952 non-null   object \n 5   Date              1952 non-null   object \n 6   Low_Price         1952 non-null   float64\n 7   High_Price        1952 non-null   float64\n 8   Sales_Total       1952 non-null   float64\n 9   Total_Qty_Sold    1952 non-null   int64  \n 10  Total_Kg_Sold     1952 non-null   float64\n 11  Stock_On_Hand     1952 non-null   int64  \n 12  avg_price_per_kg  1952 non-null   float64\ndtypes: float64(6), int64(2), object(5)\nmemory usage: 213.5+ KB\n"
     ]
    }
   ],
   "source": [
    "# analysing data types of given data \n",
    "df.info()"
   ]
  },
  {
   "cell_type": "code",
   "execution_count": 13,
   "metadata": {},
   "outputs": [
    {
     "output_type": "execute_result",
     "data": {
      "text/plain": [
       "Province            0\n",
       "Container           0\n",
       "Size_Grade          0\n",
       "Weight_Kg           0\n",
       "Commodities         0\n",
       "Date                0\n",
       "Low_Price           0\n",
       "High_Price          0\n",
       "Sales_Total         0\n",
       "Total_Qty_Sold      0\n",
       "Total_Kg_Sold       0\n",
       "Stock_On_Hand       0\n",
       "avg_price_per_kg    0\n",
       "dtype: int64"
      ]
     },
     "metadata": {},
     "execution_count": 13
    }
   ],
   "source": [
    "#checking to see if there are any null values in data frame\n",
    "df.isnull().sum()"
   ]
  },
  {
   "cell_type": "code",
   "execution_count": 14,
   "metadata": {},
   "outputs": [
    {
     "output_type": "execute_result",
     "data": {
      "text/plain": [
       "         Weight_Kg    Low_Price   High_Price    Sales_Total  Total_Qty_Sold  \\\n",
       "count  1952.000000  1952.000000  1952.000000    1952.000000     1952.000000   \n",
       "mean     40.460912   174.307377   215.648053   20053.533811      174.510758   \n",
       "std      99.655169   373.553578   433.546159   39005.069445      308.810797   \n",
       "min       3.000000     2.000000     5.000000       5.000000        1.000000   \n",
       "25%       9.000000    50.000000    60.000000    1325.000000       12.000000   \n",
       "50%      12.000000    80.000000   108.000000    5495.000000       64.000000   \n",
       "75%      18.300000   127.250000   160.000000   21082.500000      200.000000   \n",
       "max     400.000000  2300.000000  3300.000000  369464.000000     4237.000000   \n",
       "\n",
       "       Total_Kg_Sold  Stock_On_Hand  avg_price_per_kg  \n",
       "count    1952.000000    1952.000000       1952.000000  \n",
       "mean     2960.176332     408.393955          6.778893  \n",
       "std      6097.416527     724.450582          2.248744  \n",
       "min         3.000000       0.000000          0.250000  \n",
       "25%       219.600000       9.000000          5.460000  \n",
       "50%       853.500000     126.500000          6.670000  \n",
       "75%      3093.525000     468.000000          8.280000  \n",
       "max     74000.000000    6400.000000         21.240000  "
      ],
      "text/html": "<div>\n<style scoped>\n    .dataframe tbody tr th:only-of-type {\n        vertical-align: middle;\n    }\n\n    .dataframe tbody tr th {\n        vertical-align: top;\n    }\n\n    .dataframe thead th {\n        text-align: right;\n    }\n</style>\n<table border=\"1\" class=\"dataframe\">\n  <thead>\n    <tr style=\"text-align: right;\">\n      <th></th>\n      <th>Weight_Kg</th>\n      <th>Low_Price</th>\n      <th>High_Price</th>\n      <th>Sales_Total</th>\n      <th>Total_Qty_Sold</th>\n      <th>Total_Kg_Sold</th>\n      <th>Stock_On_Hand</th>\n      <th>avg_price_per_kg</th>\n    </tr>\n  </thead>\n  <tbody>\n    <tr>\n      <th>count</th>\n      <td>1952.000000</td>\n      <td>1952.000000</td>\n      <td>1952.000000</td>\n      <td>1952.000000</td>\n      <td>1952.000000</td>\n      <td>1952.000000</td>\n      <td>1952.000000</td>\n      <td>1952.000000</td>\n    </tr>\n    <tr>\n      <th>mean</th>\n      <td>40.460912</td>\n      <td>174.307377</td>\n      <td>215.648053</td>\n      <td>20053.533811</td>\n      <td>174.510758</td>\n      <td>2960.176332</td>\n      <td>408.393955</td>\n      <td>6.778893</td>\n    </tr>\n    <tr>\n      <th>std</th>\n      <td>99.655169</td>\n      <td>373.553578</td>\n      <td>433.546159</td>\n      <td>39005.069445</td>\n      <td>308.810797</td>\n      <td>6097.416527</td>\n      <td>724.450582</td>\n      <td>2.248744</td>\n    </tr>\n    <tr>\n      <th>min</th>\n      <td>3.000000</td>\n      <td>2.000000</td>\n      <td>5.000000</td>\n      <td>5.000000</td>\n      <td>1.000000</td>\n      <td>3.000000</td>\n      <td>0.000000</td>\n      <td>0.250000</td>\n    </tr>\n    <tr>\n      <th>25%</th>\n      <td>9.000000</td>\n      <td>50.000000</td>\n      <td>60.000000</td>\n      <td>1325.000000</td>\n      <td>12.000000</td>\n      <td>219.600000</td>\n      <td>9.000000</td>\n      <td>5.460000</td>\n    </tr>\n    <tr>\n      <th>50%</th>\n      <td>12.000000</td>\n      <td>80.000000</td>\n      <td>108.000000</td>\n      <td>5495.000000</td>\n      <td>64.000000</td>\n      <td>853.500000</td>\n      <td>126.500000</td>\n      <td>6.670000</td>\n    </tr>\n    <tr>\n      <th>75%</th>\n      <td>18.300000</td>\n      <td>127.250000</td>\n      <td>160.000000</td>\n      <td>21082.500000</td>\n      <td>200.000000</td>\n      <td>3093.525000</td>\n      <td>468.000000</td>\n      <td>8.280000</td>\n    </tr>\n    <tr>\n      <th>max</th>\n      <td>400.000000</td>\n      <td>2300.000000</td>\n      <td>3300.000000</td>\n      <td>369464.000000</td>\n      <td>4237.000000</td>\n      <td>74000.000000</td>\n      <td>6400.000000</td>\n      <td>21.240000</td>\n    </tr>\n  </tbody>\n</table>\n</div>"
     },
     "metadata": {},
     "execution_count": 14
    }
   ],
   "source": [
    "#viewing statistical infomation about data\n",
    "df.describe()"
   ]
  },
  {
   "cell_type": "code",
   "execution_count": 103,
   "metadata": {},
   "outputs": [
    {
     "output_type": "execute_result",
     "data": {
      "text/plain": [
       "(64376, 13)"
      ]
     },
     "metadata": {},
     "execution_count": 103
    }
   ],
   "source": []
  },
  {
   "cell_type": "code",
   "execution_count": 16,
   "metadata": {},
   "outputs": [
    {
     "output_type": "execute_result",
     "data": {
      "text/plain": [
       "<seaborn.axisgrid.FacetGrid at 0x18acc5ab7c0>"
      ]
     },
     "metadata": {},
     "execution_count": 16
    },
    {
     "output_type": "display_data",
     "data": {
      "text/plain": "<Figure size 360x360 with 1 Axes>",
      "image/svg+xml": "<?xml version=\"1.0\" encoding=\"utf-8\" standalone=\"no\"?>\r\n<!DOCTYPE svg PUBLIC \"-//W3C//DTD SVG 1.1//EN\"\r\n  \"http://www.w3.org/Graphics/SVG/1.1/DTD/svg11.dtd\">\r\n<!-- Created with matplotlib (https://matplotlib.org/) -->\r\n<svg height=\"351.528125pt\" version=\"1.1\" viewBox=\"0 0 352.440625 351.528125\" width=\"352.440625pt\" xmlns=\"http://www.w3.org/2000/svg\" xmlns:xlink=\"http://www.w3.org/1999/xlink\">\r\n <metadata>\r\n  <rdf:RDF xmlns:cc=\"http://creativecommons.org/ns#\" xmlns:dc=\"http://purl.org/dc/elements/1.1/\" xmlns:rdf=\"http://www.w3.org/1999/02/22-rdf-syntax-ns#\">\r\n   <cc:Work>\r\n    <dc:type rdf:resource=\"http://purl.org/dc/dcmitype/StillImage\"/>\r\n    <dc:date>2021-05-12T00:04:35.024162</dc:date>\r\n    <dc:format>image/svg+xml</dc:format>\r\n    <dc:creator>\r\n     <cc:Agent>\r\n      <dc:title>Matplotlib v3.3.2, https://matplotlib.org/</dc:title>\r\n     </cc:Agent>\r\n    </dc:creator>\r\n   </cc:Work>\r\n  </rdf:RDF>\r\n </metadata>\r\n <defs>\r\n  <style type=\"text/css\">*{stroke-linecap:butt;stroke-linejoin:round;}</style>\r\n </defs>\r\n <g id=\"figure_1\">\r\n  <g id=\"patch_1\">\r\n   <path d=\"M 0 351.528125 \r\nL 352.440625 351.528125 \r\nL 352.440625 0 \r\nL 0 0 \r\nz\r\n\" style=\"fill:none;\"/>\r\n  </g>\r\n  <g id=\"axes_1\">\r\n   <g id=\"patch_2\">\r\n    <path d=\"M 46.965625 313.69375 \r\nL 345.240625 313.69375 \r\nL 345.240625 7.2 \r\nL 46.965625 7.2 \r\nz\r\n\" style=\"fill:#ffffff;\"/>\r\n   </g>\r\n   <g id=\"patch_3\">\r\n    <path clip-path=\"url(#p22ab70480f)\" d=\"M 60.52358 313.69375 \r\nL 66.292922 313.69375 \r\nL 66.292922 309.03579 \r\nL 60.52358 309.03579 \r\nz\r\n\" style=\"fill:#1f77b4;fill-opacity:0.5;stroke:#000000;stroke-linejoin:miter;stroke-width:0.594584;\"/>\r\n   </g>\r\n   <g id=\"patch_4\">\r\n    <path clip-path=\"url(#p22ab70480f)\" d=\"M 66.292922 313.69375 \r\nL 72.062264 313.69375 \r\nL 72.062264 290.403951 \r\nL 66.292922 290.403951 \r\nz\r\n\" style=\"fill:#1f77b4;fill-opacity:0.5;stroke:#000000;stroke-linejoin:miter;stroke-width:0.594584;\"/>\r\n   </g>\r\n   <g id=\"patch_5\">\r\n    <path clip-path=\"url(#p22ab70480f)\" d=\"M 72.062264 313.69375 \r\nL 77.831607 313.69375 \r\nL 77.831607 291.956605 \r\nL 72.062264 291.956605 \r\nz\r\n\" style=\"fill:#1f77b4;fill-opacity:0.5;stroke:#000000;stroke-linejoin:miter;stroke-width:0.594584;\"/>\r\n   </g>\r\n   <g id=\"patch_6\">\r\n    <path clip-path=\"url(#p22ab70480f)\" d=\"M 77.831607 313.69375 \r\nL 83.600949 313.69375 \r\nL 83.600949 274.877419 \r\nL 77.831607 274.877419 \r\nz\r\n\" style=\"fill:#1f77b4;fill-opacity:0.5;stroke:#000000;stroke-linejoin:miter;stroke-width:0.594584;\"/>\r\n   </g>\r\n   <g id=\"patch_7\">\r\n    <path clip-path=\"url(#p22ab70480f)\" d=\"M 83.600949 313.69375 \r\nL 89.370291 313.69375 \r\nL 89.370291 276.430072 \r\nL 83.600949 276.430072 \r\nz\r\n\" style=\"fill:#1f77b4;fill-opacity:0.5;stroke:#000000;stroke-linejoin:miter;stroke-width:0.594584;\"/>\r\n   </g>\r\n   <g id=\"patch_8\">\r\n    <path clip-path=\"url(#p22ab70480f)\" d=\"M 89.370291 313.69375 \r\nL 95.139634 313.69375 \r\nL 95.139634 285.745992 \r\nL 89.370291 285.745992 \r\nz\r\n\" style=\"fill:#1f77b4;fill-opacity:0.5;stroke:#000000;stroke-linejoin:miter;stroke-width:0.594584;\"/>\r\n   </g>\r\n   <g id=\"patch_9\">\r\n    <path clip-path=\"url(#p22ab70480f)\" d=\"M 95.139634 313.69375 \r\nL 100.908976 313.69375 \r\nL 100.908976 267.114153 \r\nL 95.139634 267.114153 \r\nz\r\n\" style=\"fill:#1f77b4;fill-opacity:0.5;stroke:#000000;stroke-linejoin:miter;stroke-width:0.594584;\"/>\r\n   </g>\r\n   <g id=\"patch_10\">\r\n    <path clip-path=\"url(#p22ab70480f)\" d=\"M 100.908976 313.69375 \r\nL 106.678318 313.69375 \r\nL 106.678318 276.430072 \r\nL 100.908976 276.430072 \r\nz\r\n\" style=\"fill:#1f77b4;fill-opacity:0.5;stroke:#000000;stroke-linejoin:miter;stroke-width:0.594584;\"/>\r\n   </g>\r\n   <g id=\"patch_11\">\r\n    <path clip-path=\"url(#p22ab70480f)\" d=\"M 106.678318 313.69375 \r\nL 112.447661 313.69375 \r\nL 112.447661 240.719048 \r\nL 106.678318 240.719048 \r\nz\r\n\" style=\"fill:#1f77b4;fill-opacity:0.5;stroke:#000000;stroke-linejoin:miter;stroke-width:0.594584;\"/>\r\n   </g>\r\n   <g id=\"patch_12\">\r\n    <path clip-path=\"url(#p22ab70480f)\" d=\"M 112.447661 313.69375 \r\nL 118.217003 313.69375 \r\nL 118.217003 110.296175 \r\nL 112.447661 110.296175 \r\nz\r\n\" style=\"fill:#1f77b4;fill-opacity:0.5;stroke:#000000;stroke-linejoin:miter;stroke-width:0.594584;\"/>\r\n   </g>\r\n   <g id=\"patch_13\">\r\n    <path clip-path=\"url(#p22ab70480f)\" d=\"M 118.217003 313.69375 \r\nL 123.986346 313.69375 \r\nL 123.986346 170.849652 \r\nL 118.217003 170.849652 \r\nz\r\n\" style=\"fill:#1f77b4;fill-opacity:0.5;stroke:#000000;stroke-linejoin:miter;stroke-width:0.594584;\"/>\r\n   </g>\r\n   <g id=\"patch_14\">\r\n    <path clip-path=\"url(#p22ab70480f)\" d=\"M 123.986346 313.69375 \r\nL 129.755688 313.69375 \r\nL 129.755688 52.848005 \r\nL 123.986346 52.848005 \r\nz\r\n\" style=\"fill:#1f77b4;fill-opacity:0.5;stroke:#000000;stroke-linejoin:miter;stroke-width:0.594584;\"/>\r\n   </g>\r\n   <g id=\"patch_15\">\r\n    <path clip-path=\"url(#p22ab70480f)\" d=\"M 129.755688 313.69375 \r\nL 135.52503 313.69375 \r\nL 135.52503 97.874949 \r\nL 129.755688 97.874949 \r\nz\r\n\" style=\"fill:#1f77b4;fill-opacity:0.5;stroke:#000000;stroke-linejoin:miter;stroke-width:0.594584;\"/>\r\n   </g>\r\n   <g id=\"patch_16\">\r\n    <path clip-path=\"url(#p22ab70480f)\" d=\"M 135.52503 313.69375 \r\nL 141.294373 313.69375 \r\nL 141.294373 87.006377 \r\nL 135.52503 87.006377 \r\nz\r\n\" style=\"fill:#1f77b4;fill-opacity:0.5;stroke:#000000;stroke-linejoin:miter;stroke-width:0.594584;\"/>\r\n   </g>\r\n   <g id=\"patch_17\">\r\n    <path clip-path=\"url(#p22ab70480f)\" d=\"M 141.294373 313.69375 \r\nL 147.063715 313.69375 \r\nL 147.063715 21.79494 \r\nL 141.294373 21.79494 \r\nz\r\n\" style=\"fill:#1f77b4;fill-opacity:0.5;stroke:#000000;stroke-linejoin:miter;stroke-width:0.594584;\"/>\r\n   </g>\r\n   <g id=\"patch_18\">\r\n    <path clip-path=\"url(#p22ab70480f)\" d=\"M 147.063715 313.69375 \r\nL 152.833057 313.69375 \r\nL 152.833057 94.769643 \r\nL 147.063715 94.769643 \r\nz\r\n\" style=\"fill:#1f77b4;fill-opacity:0.5;stroke:#000000;stroke-linejoin:miter;stroke-width:0.594584;\"/>\r\n   </g>\r\n   <g id=\"patch_19\">\r\n    <path clip-path=\"url(#p22ab70480f)\" d=\"M 152.833057 313.69375 \r\nL 158.6024 313.69375 \r\nL 158.6024 104.085562 \r\nL 152.833057 104.085562 \r\nz\r\n\" style=\"fill:#1f77b4;fill-opacity:0.5;stroke:#000000;stroke-linejoin:miter;stroke-width:0.594584;\"/>\r\n   </g>\r\n   <g id=\"patch_20\">\r\n    <path clip-path=\"url(#p22ab70480f)\" d=\"M 158.6024 313.69375 \r\nL 164.371742 313.69375 \r\nL 164.371742 111.848829 \r\nL 158.6024 111.848829 \r\nz\r\n\" style=\"fill:#1f77b4;fill-opacity:0.5;stroke:#000000;stroke-linejoin:miter;stroke-width:0.594584;\"/>\r\n   </g>\r\n   <g id=\"patch_21\">\r\n    <path clip-path=\"url(#p22ab70480f)\" d=\"M 164.371742 313.69375 \r\nL 170.141084 313.69375 \r\nL 170.141084 177.060265 \r\nL 164.371742 177.060265 \r\nz\r\n\" style=\"fill:#1f77b4;fill-opacity:0.5;stroke:#000000;stroke-linejoin:miter;stroke-width:0.594584;\"/>\r\n   </g>\r\n   <g id=\"patch_22\">\r\n    <path clip-path=\"url(#p22ab70480f)\" d=\"M 170.141084 313.69375 \r\nL 175.910427 313.69375 \r\nL 175.910427 147.559853 \r\nL 170.141084 147.559853 \r\nz\r\n\" style=\"fill:#1f77b4;fill-opacity:0.5;stroke:#000000;stroke-linejoin:miter;stroke-width:0.594584;\"/>\r\n   </g>\r\n   <g id=\"patch_23\">\r\n    <path clip-path=\"url(#p22ab70480f)\" d=\"M 175.910427 313.69375 \r\nL 181.679769 313.69375 \r\nL 181.679769 180.165571 \r\nL 175.910427 180.165571 \r\nz\r\n\" style=\"fill:#1f77b4;fill-opacity:0.5;stroke:#000000;stroke-linejoin:miter;stroke-width:0.594584;\"/>\r\n   </g>\r\n   <g id=\"patch_24\">\r\n    <path clip-path=\"url(#p22ab70480f)\" d=\"M 181.679769 313.69375 \r\nL 187.449111 313.69375 \r\nL 187.449111 158.428426 \r\nL 181.679769 158.428426 \r\nz\r\n\" style=\"fill:#1f77b4;fill-opacity:0.5;stroke:#000000;stroke-linejoin:miter;stroke-width:0.594584;\"/>\r\n   </g>\r\n   <g id=\"patch_25\">\r\n    <path clip-path=\"url(#p22ab70480f)\" d=\"M 187.449111 313.69375 \r\nL 193.218454 313.69375 \r\nL 193.218454 267.114153 \r\nL 187.449111 267.114153 \r\nz\r\n\" style=\"fill:#1f77b4;fill-opacity:0.5;stroke:#000000;stroke-linejoin:miter;stroke-width:0.594584;\"/>\r\n   </g>\r\n   <g id=\"patch_26\">\r\n    <path clip-path=\"url(#p22ab70480f)\" d=\"M 193.218454 313.69375 \r\nL 198.987796 313.69375 \r\nL 198.987796 264.008846 \r\nL 193.218454 264.008846 \r\nz\r\n\" style=\"fill:#1f77b4;fill-opacity:0.5;stroke:#000000;stroke-linejoin:miter;stroke-width:0.594584;\"/>\r\n   </g>\r\n   <g id=\"patch_27\">\r\n    <path clip-path=\"url(#p22ab70480f)\" d=\"M 198.987796 313.69375 \r\nL 204.757139 313.69375 \r\nL 204.757139 295.061911 \r\nL 198.987796 295.061911 \r\nz\r\n\" style=\"fill:#1f77b4;fill-opacity:0.5;stroke:#000000;stroke-linejoin:miter;stroke-width:0.594584;\"/>\r\n   </g>\r\n   <g id=\"patch_28\">\r\n    <path clip-path=\"url(#p22ab70480f)\" d=\"M 204.757139 313.69375 \r\nL 210.526481 313.69375 \r\nL 210.526481 310.588444 \r\nL 204.757139 310.588444 \r\nz\r\n\" style=\"fill:#1f77b4;fill-opacity:0.5;stroke:#000000;stroke-linejoin:miter;stroke-width:0.594584;\"/>\r\n   </g>\r\n   <g id=\"patch_29\">\r\n    <path clip-path=\"url(#p22ab70480f)\" d=\"M 210.526481 313.69375 \r\nL 216.295823 313.69375 \r\nL 216.295823 293.509258 \r\nL 210.526481 293.509258 \r\nz\r\n\" style=\"fill:#1f77b4;fill-opacity:0.5;stroke:#000000;stroke-linejoin:miter;stroke-width:0.594584;\"/>\r\n   </g>\r\n   <g id=\"patch_30\">\r\n    <path clip-path=\"url(#p22ab70480f)\" d=\"M 216.295823 313.69375 \r\nL 222.065166 313.69375 \r\nL 222.065166 312.141097 \r\nL 216.295823 312.141097 \r\nz\r\n\" style=\"fill:#1f77b4;fill-opacity:0.5;stroke:#000000;stroke-linejoin:miter;stroke-width:0.594584;\"/>\r\n   </g>\r\n   <g id=\"patch_31\">\r\n    <path clip-path=\"url(#p22ab70480f)\" d=\"M 222.065166 313.69375 \r\nL 227.834508 313.69375 \r\nL 227.834508 312.141097 \r\nL 222.065166 312.141097 \r\nz\r\n\" style=\"fill:#1f77b4;fill-opacity:0.5;stroke:#000000;stroke-linejoin:miter;stroke-width:0.594584;\"/>\r\n   </g>\r\n   <g id=\"patch_32\">\r\n    <path clip-path=\"url(#p22ab70480f)\" d=\"M 227.834508 313.69375 \r\nL 233.60385 313.69375 \r\nL 233.60385 313.69375 \r\nL 227.834508 313.69375 \r\nz\r\n\" style=\"fill:#1f77b4;fill-opacity:0.5;stroke:#000000;stroke-linejoin:miter;stroke-width:0.594584;\"/>\r\n   </g>\r\n   <g id=\"patch_33\">\r\n    <path clip-path=\"url(#p22ab70480f)\" d=\"M 233.60385 313.69375 \r\nL 239.373193 313.69375 \r\nL 239.373193 309.03579 \r\nL 233.60385 309.03579 \r\nz\r\n\" style=\"fill:#1f77b4;fill-opacity:0.5;stroke:#000000;stroke-linejoin:miter;stroke-width:0.594584;\"/>\r\n   </g>\r\n   <g id=\"patch_34\">\r\n    <path clip-path=\"url(#p22ab70480f)\" d=\"M 239.373193 313.69375 \r\nL 245.142535 313.69375 \r\nL 245.142535 305.930484 \r\nL 239.373193 305.930484 \r\nz\r\n\" style=\"fill:#1f77b4;fill-opacity:0.5;stroke:#000000;stroke-linejoin:miter;stroke-width:0.594584;\"/>\r\n   </g>\r\n   <g id=\"patch_35\">\r\n    <path clip-path=\"url(#p22ab70480f)\" d=\"M 245.142535 313.69375 \r\nL 250.911877 313.69375 \r\nL 250.911877 313.69375 \r\nL 245.142535 313.69375 \r\nz\r\n\" style=\"fill:#1f77b4;fill-opacity:0.5;stroke:#000000;stroke-linejoin:miter;stroke-width:0.594584;\"/>\r\n   </g>\r\n   <g id=\"patch_36\">\r\n    <path clip-path=\"url(#p22ab70480f)\" d=\"M 250.911877 313.69375 \r\nL 256.68122 313.69375 \r\nL 256.68122 312.141097 \r\nL 250.911877 312.141097 \r\nz\r\n\" style=\"fill:#1f77b4;fill-opacity:0.5;stroke:#000000;stroke-linejoin:miter;stroke-width:0.594584;\"/>\r\n   </g>\r\n   <g id=\"patch_37\">\r\n    <path clip-path=\"url(#p22ab70480f)\" d=\"M 256.68122 313.69375 \r\nL 262.450562 313.69375 \r\nL 262.450562 313.69375 \r\nL 256.68122 313.69375 \r\nz\r\n\" style=\"fill:#1f77b4;fill-opacity:0.5;stroke:#000000;stroke-linejoin:miter;stroke-width:0.594584;\"/>\r\n   </g>\r\n   <g id=\"patch_38\">\r\n    <path clip-path=\"url(#p22ab70480f)\" d=\"M 262.450562 313.69375 \r\nL 268.219904 313.69375 \r\nL 268.219904 313.69375 \r\nL 262.450562 313.69375 \r\nz\r\n\" style=\"fill:#1f77b4;fill-opacity:0.5;stroke:#000000;stroke-linejoin:miter;stroke-width:0.594584;\"/>\r\n   </g>\r\n   <g id=\"patch_39\">\r\n    <path clip-path=\"url(#p22ab70480f)\" d=\"M 268.219904 313.69375 \r\nL 273.989247 313.69375 \r\nL 273.989247 313.69375 \r\nL 268.219904 313.69375 \r\nz\r\n\" style=\"fill:#1f77b4;fill-opacity:0.5;stroke:#000000;stroke-linejoin:miter;stroke-width:0.594584;\"/>\r\n   </g>\r\n   <g id=\"patch_40\">\r\n    <path clip-path=\"url(#p22ab70480f)\" d=\"M 273.989247 313.69375 \r\nL 279.758589 313.69375 \r\nL 279.758589 313.69375 \r\nL 273.989247 313.69375 \r\nz\r\n\" style=\"fill:#1f77b4;fill-opacity:0.5;stroke:#000000;stroke-linejoin:miter;stroke-width:0.594584;\"/>\r\n   </g>\r\n   <g id=\"patch_41\">\r\n    <path clip-path=\"url(#p22ab70480f)\" d=\"M 279.758589 313.69375 \r\nL 285.527932 313.69375 \r\nL 285.527932 313.69375 \r\nL 279.758589 313.69375 \r\nz\r\n\" style=\"fill:#1f77b4;fill-opacity:0.5;stroke:#000000;stroke-linejoin:miter;stroke-width:0.594584;\"/>\r\n   </g>\r\n   <g id=\"patch_42\">\r\n    <path clip-path=\"url(#p22ab70480f)\" d=\"M 285.527932 313.69375 \r\nL 291.297274 313.69375 \r\nL 291.297274 313.69375 \r\nL 285.527932 313.69375 \r\nz\r\n\" style=\"fill:#1f77b4;fill-opacity:0.5;stroke:#000000;stroke-linejoin:miter;stroke-width:0.594584;\"/>\r\n   </g>\r\n   <g id=\"patch_43\">\r\n    <path clip-path=\"url(#p22ab70480f)\" d=\"M 291.297274 313.69375 \r\nL 297.066616 313.69375 \r\nL 297.066616 313.69375 \r\nL 291.297274 313.69375 \r\nz\r\n\" style=\"fill:#1f77b4;fill-opacity:0.5;stroke:#000000;stroke-linejoin:miter;stroke-width:0.594584;\"/>\r\n   </g>\r\n   <g id=\"patch_44\">\r\n    <path clip-path=\"url(#p22ab70480f)\" d=\"M 297.066616 313.69375 \r\nL 302.835959 313.69375 \r\nL 302.835959 313.69375 \r\nL 297.066616 313.69375 \r\nz\r\n\" style=\"fill:#1f77b4;fill-opacity:0.5;stroke:#000000;stroke-linejoin:miter;stroke-width:0.594584;\"/>\r\n   </g>\r\n   <g id=\"patch_45\">\r\n    <path clip-path=\"url(#p22ab70480f)\" d=\"M 302.835959 313.69375 \r\nL 308.605301 313.69375 \r\nL 308.605301 313.69375 \r\nL 302.835959 313.69375 \r\nz\r\n\" style=\"fill:#1f77b4;fill-opacity:0.5;stroke:#000000;stroke-linejoin:miter;stroke-width:0.594584;\"/>\r\n   </g>\r\n   <g id=\"patch_46\">\r\n    <path clip-path=\"url(#p22ab70480f)\" d=\"M 308.605301 313.69375 \r\nL 314.374643 313.69375 \r\nL 314.374643 313.69375 \r\nL 308.605301 313.69375 \r\nz\r\n\" style=\"fill:#1f77b4;fill-opacity:0.5;stroke:#000000;stroke-linejoin:miter;stroke-width:0.594584;\"/>\r\n   </g>\r\n   <g id=\"patch_47\">\r\n    <path clip-path=\"url(#p22ab70480f)\" d=\"M 314.374643 313.69375 \r\nL 320.143986 313.69375 \r\nL 320.143986 313.69375 \r\nL 314.374643 313.69375 \r\nz\r\n\" style=\"fill:#1f77b4;fill-opacity:0.5;stroke:#000000;stroke-linejoin:miter;stroke-width:0.594584;\"/>\r\n   </g>\r\n   <g id=\"patch_48\">\r\n    <path clip-path=\"url(#p22ab70480f)\" d=\"M 320.143986 313.69375 \r\nL 325.913328 313.69375 \r\nL 325.913328 313.69375 \r\nL 320.143986 313.69375 \r\nz\r\n\" style=\"fill:#1f77b4;fill-opacity:0.5;stroke:#000000;stroke-linejoin:miter;stroke-width:0.594584;\"/>\r\n   </g>\r\n   <g id=\"patch_49\">\r\n    <path clip-path=\"url(#p22ab70480f)\" d=\"M 325.913328 313.69375 \r\nL 331.68267 313.69375 \r\nL 331.68267 312.141097 \r\nL 325.913328 312.141097 \r\nz\r\n\" style=\"fill:#1f77b4;fill-opacity:0.5;stroke:#000000;stroke-linejoin:miter;stroke-width:0.594584;\"/>\r\n   </g>\r\n   <g id=\"matplotlib.axis_1\">\r\n    <g id=\"xtick_1\">\r\n     <g id=\"line2d_1\">\r\n      <defs>\r\n       <path d=\"M 0 0 \r\nL 0 3.5 \r\n\" id=\"mabdfd6e028\" style=\"stroke:#000000;stroke-width:0.8;\"/>\r\n      </defs>\r\n      <g>\r\n       <use style=\"stroke:#000000;stroke-width:0.8;\" x=\"57.293957\" xlink:href=\"#mabdfd6e028\" y=\"313.69375\"/>\r\n      </g>\r\n     </g>\r\n     <g id=\"text_1\">\r\n      <!-- 0 -->\r\n      <g transform=\"translate(54.112707 328.292187)scale(0.1 -0.1)\">\r\n       <defs>\r\n        <path d=\"M 31.78125 66.40625 \r\nQ 24.171875 66.40625 20.328125 58.90625 \r\nQ 16.5 51.421875 16.5 36.375 \r\nQ 16.5 21.390625 20.328125 13.890625 \r\nQ 24.171875 6.390625 31.78125 6.390625 \r\nQ 39.453125 6.390625 43.28125 13.890625 \r\nQ 47.125 21.390625 47.125 36.375 \r\nQ 47.125 51.421875 43.28125 58.90625 \r\nQ 39.453125 66.40625 31.78125 66.40625 \r\nz\r\nM 31.78125 74.21875 \r\nQ 44.046875 74.21875 50.515625 64.515625 \r\nQ 56.984375 54.828125 56.984375 36.375 \r\nQ 56.984375 17.96875 50.515625 8.265625 \r\nQ 44.046875 -1.421875 31.78125 -1.421875 \r\nQ 19.53125 -1.421875 13.0625 8.265625 \r\nQ 6.59375 17.96875 6.59375 36.375 \r\nQ 6.59375 54.828125 13.0625 64.515625 \r\nQ 19.53125 74.21875 31.78125 74.21875 \r\nz\r\n\" id=\"DejaVuSans-48\"/>\r\n       </defs>\r\n       <use xlink:href=\"#DejaVuSans-48\"/>\r\n      </g>\r\n     </g>\r\n    </g>\r\n    <g id=\"xtick_2\">\r\n     <g id=\"line2d_2\">\r\n      <g>\r\n       <use style=\"stroke:#000000;stroke-width:0.8;\" x=\"121.886404\" xlink:href=\"#mabdfd6e028\" y=\"313.69375\"/>\r\n      </g>\r\n     </g>\r\n     <g id=\"text_2\">\r\n      <!-- 5 -->\r\n      <g transform=\"translate(118.705154 328.292187)scale(0.1 -0.1)\">\r\n       <defs>\r\n        <path d=\"M 10.796875 72.90625 \r\nL 49.515625 72.90625 \r\nL 49.515625 64.59375 \r\nL 19.828125 64.59375 \r\nL 19.828125 46.734375 \r\nQ 21.96875 47.46875 24.109375 47.828125 \r\nQ 26.265625 48.1875 28.421875 48.1875 \r\nQ 40.625 48.1875 47.75 41.5 \r\nQ 54.890625 34.8125 54.890625 23.390625 \r\nQ 54.890625 11.625 47.5625 5.09375 \r\nQ 40.234375 -1.421875 26.90625 -1.421875 \r\nQ 22.3125 -1.421875 17.546875 -0.640625 \r\nQ 12.796875 0.140625 7.71875 1.703125 \r\nL 7.71875 11.625 \r\nQ 12.109375 9.234375 16.796875 8.0625 \r\nQ 21.484375 6.890625 26.703125 6.890625 \r\nQ 35.15625 6.890625 40.078125 11.328125 \r\nQ 45.015625 15.765625 45.015625 23.390625 \r\nQ 45.015625 31 40.078125 35.4375 \r\nQ 35.15625 39.890625 26.703125 39.890625 \r\nQ 22.75 39.890625 18.8125 39.015625 \r\nQ 14.890625 38.140625 10.796875 36.28125 \r\nz\r\n\" id=\"DejaVuSans-53\"/>\r\n       </defs>\r\n       <use xlink:href=\"#DejaVuSans-53\"/>\r\n      </g>\r\n     </g>\r\n    </g>\r\n    <g id=\"xtick_3\">\r\n     <g id=\"line2d_3\">\r\n      <g>\r\n       <use style=\"stroke:#000000;stroke-width:0.8;\" x=\"186.47885\" xlink:href=\"#mabdfd6e028\" y=\"313.69375\"/>\r\n      </g>\r\n     </g>\r\n     <g id=\"text_3\">\r\n      <!-- 10 -->\r\n      <g transform=\"translate(180.11635 328.292187)scale(0.1 -0.1)\">\r\n       <defs>\r\n        <path d=\"M 12.40625 8.296875 \r\nL 28.515625 8.296875 \r\nL 28.515625 63.921875 \r\nL 10.984375 60.40625 \r\nL 10.984375 69.390625 \r\nL 28.421875 72.90625 \r\nL 38.28125 72.90625 \r\nL 38.28125 8.296875 \r\nL 54.390625 8.296875 \r\nL 54.390625 0 \r\nL 12.40625 0 \r\nz\r\n\" id=\"DejaVuSans-49\"/>\r\n       </defs>\r\n       <use xlink:href=\"#DejaVuSans-49\"/>\r\n       <use x=\"63.623047\" xlink:href=\"#DejaVuSans-48\"/>\r\n      </g>\r\n     </g>\r\n    </g>\r\n    <g id=\"xtick_4\">\r\n     <g id=\"line2d_4\">\r\n      <g>\r\n       <use style=\"stroke:#000000;stroke-width:0.8;\" x=\"251.071297\" xlink:href=\"#mabdfd6e028\" y=\"313.69375\"/>\r\n      </g>\r\n     </g>\r\n     <g id=\"text_4\">\r\n      <!-- 15 -->\r\n      <g transform=\"translate(244.708797 328.292187)scale(0.1 -0.1)\">\r\n       <use xlink:href=\"#DejaVuSans-49\"/>\r\n       <use x=\"63.623047\" xlink:href=\"#DejaVuSans-53\"/>\r\n      </g>\r\n     </g>\r\n    </g>\r\n    <g id=\"xtick_5\">\r\n     <g id=\"line2d_5\">\r\n      <g>\r\n       <use style=\"stroke:#000000;stroke-width:0.8;\" x=\"315.663744\" xlink:href=\"#mabdfd6e028\" y=\"313.69375\"/>\r\n      </g>\r\n     </g>\r\n     <g id=\"text_5\">\r\n      <!-- 20 -->\r\n      <g transform=\"translate(309.301244 328.292187)scale(0.1 -0.1)\">\r\n       <defs>\r\n        <path d=\"M 19.1875 8.296875 \r\nL 53.609375 8.296875 \r\nL 53.609375 0 \r\nL 7.328125 0 \r\nL 7.328125 8.296875 \r\nQ 12.9375 14.109375 22.625 23.890625 \r\nQ 32.328125 33.6875 34.8125 36.53125 \r\nQ 39.546875 41.84375 41.421875 45.53125 \r\nQ 43.3125 49.21875 43.3125 52.78125 \r\nQ 43.3125 58.59375 39.234375 62.25 \r\nQ 35.15625 65.921875 28.609375 65.921875 \r\nQ 23.96875 65.921875 18.8125 64.3125 \r\nQ 13.671875 62.703125 7.8125 59.421875 \r\nL 7.8125 69.390625 \r\nQ 13.765625 71.78125 18.9375 73 \r\nQ 24.125 74.21875 28.421875 74.21875 \r\nQ 39.75 74.21875 46.484375 68.546875 \r\nQ 53.21875 62.890625 53.21875 53.421875 \r\nQ 53.21875 48.921875 51.53125 44.890625 \r\nQ 49.859375 40.875 45.40625 35.40625 \r\nQ 44.1875 33.984375 37.640625 27.21875 \r\nQ 31.109375 20.453125 19.1875 8.296875 \r\nz\r\n\" id=\"DejaVuSans-50\"/>\r\n       </defs>\r\n       <use xlink:href=\"#DejaVuSans-50\"/>\r\n       <use x=\"63.623047\" xlink:href=\"#DejaVuSans-48\"/>\r\n      </g>\r\n     </g>\r\n    </g>\r\n    <g id=\"text_6\">\r\n     <!-- avg_price_per_kg -->\r\n     <g transform=\"translate(152.585156 341.970312)scale(0.1 -0.1)\">\r\n      <defs>\r\n       <path d=\"M 34.28125 27.484375 \r\nQ 23.390625 27.484375 19.1875 25 \r\nQ 14.984375 22.515625 14.984375 16.5 \r\nQ 14.984375 11.71875 18.140625 8.90625 \r\nQ 21.296875 6.109375 26.703125 6.109375 \r\nQ 34.1875 6.109375 38.703125 11.40625 \r\nQ 43.21875 16.703125 43.21875 25.484375 \r\nL 43.21875 27.484375 \r\nz\r\nM 52.203125 31.203125 \r\nL 52.203125 0 \r\nL 43.21875 0 \r\nL 43.21875 8.296875 \r\nQ 40.140625 3.328125 35.546875 0.953125 \r\nQ 30.953125 -1.421875 24.3125 -1.421875 \r\nQ 15.921875 -1.421875 10.953125 3.296875 \r\nQ 6 8.015625 6 15.921875 \r\nQ 6 25.140625 12.171875 29.828125 \r\nQ 18.359375 34.515625 30.609375 34.515625 \r\nL 43.21875 34.515625 \r\nL 43.21875 35.40625 \r\nQ 43.21875 41.609375 39.140625 45 \r\nQ 35.0625 48.390625 27.6875 48.390625 \r\nQ 23 48.390625 18.546875 47.265625 \r\nQ 14.109375 46.140625 10.015625 43.890625 \r\nL 10.015625 52.203125 \r\nQ 14.9375 54.109375 19.578125 55.046875 \r\nQ 24.21875 56 28.609375 56 \r\nQ 40.484375 56 46.34375 49.84375 \r\nQ 52.203125 43.703125 52.203125 31.203125 \r\nz\r\n\" id=\"DejaVuSans-97\"/>\r\n       <path d=\"M 2.984375 54.6875 \r\nL 12.5 54.6875 \r\nL 29.59375 8.796875 \r\nL 46.6875 54.6875 \r\nL 56.203125 54.6875 \r\nL 35.6875 0 \r\nL 23.484375 0 \r\nz\r\n\" id=\"DejaVuSans-118\"/>\r\n       <path d=\"M 45.40625 27.984375 \r\nQ 45.40625 37.75 41.375 43.109375 \r\nQ 37.359375 48.484375 30.078125 48.484375 \r\nQ 22.859375 48.484375 18.828125 43.109375 \r\nQ 14.796875 37.75 14.796875 27.984375 \r\nQ 14.796875 18.265625 18.828125 12.890625 \r\nQ 22.859375 7.515625 30.078125 7.515625 \r\nQ 37.359375 7.515625 41.375 12.890625 \r\nQ 45.40625 18.265625 45.40625 27.984375 \r\nz\r\nM 54.390625 6.78125 \r\nQ 54.390625 -7.171875 48.1875 -13.984375 \r\nQ 42 -20.796875 29.203125 -20.796875 \r\nQ 24.46875 -20.796875 20.265625 -20.09375 \r\nQ 16.0625 -19.390625 12.109375 -17.921875 \r\nL 12.109375 -9.1875 \r\nQ 16.0625 -11.328125 19.921875 -12.34375 \r\nQ 23.78125 -13.375 27.78125 -13.375 \r\nQ 36.625 -13.375 41.015625 -8.765625 \r\nQ 45.40625 -4.15625 45.40625 5.171875 \r\nL 45.40625 9.625 \r\nQ 42.625 4.78125 38.28125 2.390625 \r\nQ 33.9375 0 27.875 0 \r\nQ 17.828125 0 11.671875 7.65625 \r\nQ 5.515625 15.328125 5.515625 27.984375 \r\nQ 5.515625 40.671875 11.671875 48.328125 \r\nQ 17.828125 56 27.875 56 \r\nQ 33.9375 56 38.28125 53.609375 \r\nQ 42.625 51.21875 45.40625 46.390625 \r\nL 45.40625 54.6875 \r\nL 54.390625 54.6875 \r\nz\r\n\" id=\"DejaVuSans-103\"/>\r\n       <path d=\"M 50.984375 -16.609375 \r\nL 50.984375 -23.578125 \r\nL -0.984375 -23.578125 \r\nL -0.984375 -16.609375 \r\nz\r\n\" id=\"DejaVuSans-95\"/>\r\n       <path d=\"M 18.109375 8.203125 \r\nL 18.109375 -20.796875 \r\nL 9.078125 -20.796875 \r\nL 9.078125 54.6875 \r\nL 18.109375 54.6875 \r\nL 18.109375 46.390625 \r\nQ 20.953125 51.265625 25.265625 53.625 \r\nQ 29.59375 56 35.59375 56 \r\nQ 45.5625 56 51.78125 48.09375 \r\nQ 58.015625 40.1875 58.015625 27.296875 \r\nQ 58.015625 14.40625 51.78125 6.484375 \r\nQ 45.5625 -1.421875 35.59375 -1.421875 \r\nQ 29.59375 -1.421875 25.265625 0.953125 \r\nQ 20.953125 3.328125 18.109375 8.203125 \r\nz\r\nM 48.6875 27.296875 \r\nQ 48.6875 37.203125 44.609375 42.84375 \r\nQ 40.53125 48.484375 33.40625 48.484375 \r\nQ 26.265625 48.484375 22.1875 42.84375 \r\nQ 18.109375 37.203125 18.109375 27.296875 \r\nQ 18.109375 17.390625 22.1875 11.75 \r\nQ 26.265625 6.109375 33.40625 6.109375 \r\nQ 40.53125 6.109375 44.609375 11.75 \r\nQ 48.6875 17.390625 48.6875 27.296875 \r\nz\r\n\" id=\"DejaVuSans-112\"/>\r\n       <path d=\"M 41.109375 46.296875 \r\nQ 39.59375 47.171875 37.8125 47.578125 \r\nQ 36.03125 48 33.890625 48 \r\nQ 26.265625 48 22.1875 43.046875 \r\nQ 18.109375 38.09375 18.109375 28.8125 \r\nL 18.109375 0 \r\nL 9.078125 0 \r\nL 9.078125 54.6875 \r\nL 18.109375 54.6875 \r\nL 18.109375 46.1875 \r\nQ 20.953125 51.171875 25.484375 53.578125 \r\nQ 30.03125 56 36.53125 56 \r\nQ 37.453125 56 38.578125 55.875 \r\nQ 39.703125 55.765625 41.0625 55.515625 \r\nz\r\n\" id=\"DejaVuSans-114\"/>\r\n       <path d=\"M 9.421875 54.6875 \r\nL 18.40625 54.6875 \r\nL 18.40625 0 \r\nL 9.421875 0 \r\nz\r\nM 9.421875 75.984375 \r\nL 18.40625 75.984375 \r\nL 18.40625 64.59375 \r\nL 9.421875 64.59375 \r\nz\r\n\" id=\"DejaVuSans-105\"/>\r\n       <path d=\"M 48.78125 52.59375 \r\nL 48.78125 44.1875 \r\nQ 44.96875 46.296875 41.140625 47.34375 \r\nQ 37.3125 48.390625 33.40625 48.390625 \r\nQ 24.65625 48.390625 19.8125 42.84375 \r\nQ 14.984375 37.3125 14.984375 27.296875 \r\nQ 14.984375 17.28125 19.8125 11.734375 \r\nQ 24.65625 6.203125 33.40625 6.203125 \r\nQ 37.3125 6.203125 41.140625 7.25 \r\nQ 44.96875 8.296875 48.78125 10.40625 \r\nL 48.78125 2.09375 \r\nQ 45.015625 0.34375 40.984375 -0.53125 \r\nQ 36.96875 -1.421875 32.421875 -1.421875 \r\nQ 20.0625 -1.421875 12.78125 6.34375 \r\nQ 5.515625 14.109375 5.515625 27.296875 \r\nQ 5.515625 40.671875 12.859375 48.328125 \r\nQ 20.21875 56 33.015625 56 \r\nQ 37.15625 56 41.109375 55.140625 \r\nQ 45.0625 54.296875 48.78125 52.59375 \r\nz\r\n\" id=\"DejaVuSans-99\"/>\r\n       <path d=\"M 56.203125 29.59375 \r\nL 56.203125 25.203125 \r\nL 14.890625 25.203125 \r\nQ 15.484375 15.921875 20.484375 11.0625 \r\nQ 25.484375 6.203125 34.421875 6.203125 \r\nQ 39.59375 6.203125 44.453125 7.46875 \r\nQ 49.3125 8.734375 54.109375 11.28125 \r\nL 54.109375 2.78125 \r\nQ 49.265625 0.734375 44.1875 -0.34375 \r\nQ 39.109375 -1.421875 33.890625 -1.421875 \r\nQ 20.796875 -1.421875 13.15625 6.1875 \r\nQ 5.515625 13.8125 5.515625 26.8125 \r\nQ 5.515625 40.234375 12.765625 48.109375 \r\nQ 20.015625 56 32.328125 56 \r\nQ 43.359375 56 49.78125 48.890625 \r\nQ 56.203125 41.796875 56.203125 29.59375 \r\nz\r\nM 47.21875 32.234375 \r\nQ 47.125 39.59375 43.09375 43.984375 \r\nQ 39.0625 48.390625 32.421875 48.390625 \r\nQ 24.90625 48.390625 20.390625 44.140625 \r\nQ 15.875 39.890625 15.1875 32.171875 \r\nz\r\n\" id=\"DejaVuSans-101\"/>\r\n       <path d=\"M 9.078125 75.984375 \r\nL 18.109375 75.984375 \r\nL 18.109375 31.109375 \r\nL 44.921875 54.6875 \r\nL 56.390625 54.6875 \r\nL 27.390625 29.109375 \r\nL 57.625 0 \r\nL 45.90625 0 \r\nL 18.109375 26.703125 \r\nL 18.109375 0 \r\nL 9.078125 0 \r\nz\r\n\" id=\"DejaVuSans-107\"/>\r\n      </defs>\r\n      <use xlink:href=\"#DejaVuSans-97\"/>\r\n      <use x=\"61.279297\" xlink:href=\"#DejaVuSans-118\"/>\r\n      <use x=\"120.458984\" xlink:href=\"#DejaVuSans-103\"/>\r\n      <use x=\"183.935547\" xlink:href=\"#DejaVuSans-95\"/>\r\n      <use x=\"233.935547\" xlink:href=\"#DejaVuSans-112\"/>\r\n      <use x=\"297.412109\" xlink:href=\"#DejaVuSans-114\"/>\r\n      <use x=\"338.525391\" xlink:href=\"#DejaVuSans-105\"/>\r\n      <use x=\"366.308594\" xlink:href=\"#DejaVuSans-99\"/>\r\n      <use x=\"421.289062\" xlink:href=\"#DejaVuSans-101\"/>\r\n      <use x=\"482.8125\" xlink:href=\"#DejaVuSans-95\"/>\r\n      <use x=\"532.8125\" xlink:href=\"#DejaVuSans-112\"/>\r\n      <use x=\"596.289062\" xlink:href=\"#DejaVuSans-101\"/>\r\n      <use x=\"657.8125\" xlink:href=\"#DejaVuSans-114\"/>\r\n      <use x=\"698.925781\" xlink:href=\"#DejaVuSans-95\"/>\r\n      <use x=\"748.925781\" xlink:href=\"#DejaVuSans-107\"/>\r\n      <use x=\"806.835938\" xlink:href=\"#DejaVuSans-103\"/>\r\n     </g>\r\n    </g>\r\n   </g>\r\n   <g id=\"matplotlib.axis_2\">\r\n    <g id=\"ytick_1\">\r\n     <g id=\"line2d_6\">\r\n      <defs>\r\n       <path d=\"M 0 0 \r\nL -3.5 0 \r\n\" id=\"mc2870ff427\" style=\"stroke:#000000;stroke-width:0.8;\"/>\r\n      </defs>\r\n      <g>\r\n       <use style=\"stroke:#000000;stroke-width:0.8;\" x=\"46.965625\" xlink:href=\"#mc2870ff427\" y=\"313.69375\"/>\r\n      </g>\r\n     </g>\r\n     <g id=\"text_7\">\r\n      <!-- 0 -->\r\n      <g transform=\"translate(33.603125 317.492969)scale(0.1 -0.1)\">\r\n       <use xlink:href=\"#DejaVuSans-48\"/>\r\n      </g>\r\n     </g>\r\n    </g>\r\n    <g id=\"ytick_2\">\r\n     <g id=\"line2d_7\">\r\n      <g>\r\n       <use style=\"stroke:#000000;stroke-width:0.8;\" x=\"46.965625\" xlink:href=\"#mc2870ff427\" y=\"274.877419\"/>\r\n      </g>\r\n     </g>\r\n     <g id=\"text_8\">\r\n      <!-- 25 -->\r\n      <g transform=\"translate(27.240625 278.676638)scale(0.1 -0.1)\">\r\n       <use xlink:href=\"#DejaVuSans-50\"/>\r\n       <use x=\"63.623047\" xlink:href=\"#DejaVuSans-53\"/>\r\n      </g>\r\n     </g>\r\n    </g>\r\n    <g id=\"ytick_3\">\r\n     <g id=\"line2d_8\">\r\n      <g>\r\n       <use style=\"stroke:#000000;stroke-width:0.8;\" x=\"46.965625\" xlink:href=\"#mc2870ff427\" y=\"236.061088\"/>\r\n      </g>\r\n     </g>\r\n     <g id=\"text_9\">\r\n      <!-- 50 -->\r\n      <g transform=\"translate(27.240625 239.860307)scale(0.1 -0.1)\">\r\n       <use xlink:href=\"#DejaVuSans-53\"/>\r\n       <use x=\"63.623047\" xlink:href=\"#DejaVuSans-48\"/>\r\n      </g>\r\n     </g>\r\n    </g>\r\n    <g id=\"ytick_4\">\r\n     <g id=\"line2d_9\">\r\n      <g>\r\n       <use style=\"stroke:#000000;stroke-width:0.8;\" x=\"46.965625\" xlink:href=\"#mc2870ff427\" y=\"197.244757\"/>\r\n      </g>\r\n     </g>\r\n     <g id=\"text_10\">\r\n      <!-- 75 -->\r\n      <g transform=\"translate(27.240625 201.043976)scale(0.1 -0.1)\">\r\n       <defs>\r\n        <path d=\"M 8.203125 72.90625 \r\nL 55.078125 72.90625 \r\nL 55.078125 68.703125 \r\nL 28.609375 0 \r\nL 18.3125 0 \r\nL 43.21875 64.59375 \r\nL 8.203125 64.59375 \r\nz\r\n\" id=\"DejaVuSans-55\"/>\r\n       </defs>\r\n       <use xlink:href=\"#DejaVuSans-55\"/>\r\n       <use x=\"63.623047\" xlink:href=\"#DejaVuSans-53\"/>\r\n      </g>\r\n     </g>\r\n    </g>\r\n    <g id=\"ytick_5\">\r\n     <g id=\"line2d_10\">\r\n      <g>\r\n       <use style=\"stroke:#000000;stroke-width:0.8;\" x=\"46.965625\" xlink:href=\"#mc2870ff427\" y=\"158.428426\"/>\r\n      </g>\r\n     </g>\r\n     <g id=\"text_11\">\r\n      <!-- 100 -->\r\n      <g transform=\"translate(20.878125 162.227645)scale(0.1 -0.1)\">\r\n       <use xlink:href=\"#DejaVuSans-49\"/>\r\n       <use x=\"63.623047\" xlink:href=\"#DejaVuSans-48\"/>\r\n       <use x=\"127.246094\" xlink:href=\"#DejaVuSans-48\"/>\r\n      </g>\r\n     </g>\r\n    </g>\r\n    <g id=\"ytick_6\">\r\n     <g id=\"line2d_11\">\r\n      <g>\r\n       <use style=\"stroke:#000000;stroke-width:0.8;\" x=\"46.965625\" xlink:href=\"#mc2870ff427\" y=\"119.612095\"/>\r\n      </g>\r\n     </g>\r\n     <g id=\"text_12\">\r\n      <!-- 125 -->\r\n      <g transform=\"translate(20.878125 123.411313)scale(0.1 -0.1)\">\r\n       <use xlink:href=\"#DejaVuSans-49\"/>\r\n       <use x=\"63.623047\" xlink:href=\"#DejaVuSans-50\"/>\r\n       <use x=\"127.246094\" xlink:href=\"#DejaVuSans-53\"/>\r\n      </g>\r\n     </g>\r\n    </g>\r\n    <g id=\"ytick_7\">\r\n     <g id=\"line2d_12\">\r\n      <g>\r\n       <use style=\"stroke:#000000;stroke-width:0.8;\" x=\"46.965625\" xlink:href=\"#mc2870ff427\" y=\"80.795764\"/>\r\n      </g>\r\n     </g>\r\n     <g id=\"text_13\">\r\n      <!-- 150 -->\r\n      <g transform=\"translate(20.878125 84.594982)scale(0.1 -0.1)\">\r\n       <use xlink:href=\"#DejaVuSans-49\"/>\r\n       <use x=\"63.623047\" xlink:href=\"#DejaVuSans-53\"/>\r\n       <use x=\"127.246094\" xlink:href=\"#DejaVuSans-48\"/>\r\n      </g>\r\n     </g>\r\n    </g>\r\n    <g id=\"ytick_8\">\r\n     <g id=\"line2d_13\">\r\n      <g>\r\n       <use style=\"stroke:#000000;stroke-width:0.8;\" x=\"46.965625\" xlink:href=\"#mc2870ff427\" y=\"41.979433\"/>\r\n      </g>\r\n     </g>\r\n     <g id=\"text_14\">\r\n      <!-- 175 -->\r\n      <g transform=\"translate(20.878125 45.778651)scale(0.1 -0.1)\">\r\n       <use xlink:href=\"#DejaVuSans-49\"/>\r\n       <use x=\"63.623047\" xlink:href=\"#DejaVuSans-55\"/>\r\n       <use x=\"127.246094\" xlink:href=\"#DejaVuSans-53\"/>\r\n      </g>\r\n     </g>\r\n    </g>\r\n    <g id=\"text_15\">\r\n     <!-- Count -->\r\n     <g transform=\"translate(14.798438 175.295312)rotate(-90)scale(0.1 -0.1)\">\r\n      <defs>\r\n       <path d=\"M 64.40625 67.28125 \r\nL 64.40625 56.890625 \r\nQ 59.421875 61.53125 53.78125 63.8125 \r\nQ 48.140625 66.109375 41.796875 66.109375 \r\nQ 29.296875 66.109375 22.65625 58.46875 \r\nQ 16.015625 50.828125 16.015625 36.375 \r\nQ 16.015625 21.96875 22.65625 14.328125 \r\nQ 29.296875 6.6875 41.796875 6.6875 \r\nQ 48.140625 6.6875 53.78125 8.984375 \r\nQ 59.421875 11.28125 64.40625 15.921875 \r\nL 64.40625 5.609375 \r\nQ 59.234375 2.09375 53.4375 0.328125 \r\nQ 47.65625 -1.421875 41.21875 -1.421875 \r\nQ 24.65625 -1.421875 15.125 8.703125 \r\nQ 5.609375 18.84375 5.609375 36.375 \r\nQ 5.609375 53.953125 15.125 64.078125 \r\nQ 24.65625 74.21875 41.21875 74.21875 \r\nQ 47.75 74.21875 53.53125 72.484375 \r\nQ 59.328125 70.75 64.40625 67.28125 \r\nz\r\n\" id=\"DejaVuSans-67\"/>\r\n       <path d=\"M 30.609375 48.390625 \r\nQ 23.390625 48.390625 19.1875 42.75 \r\nQ 14.984375 37.109375 14.984375 27.296875 \r\nQ 14.984375 17.484375 19.15625 11.84375 \r\nQ 23.34375 6.203125 30.609375 6.203125 \r\nQ 37.796875 6.203125 41.984375 11.859375 \r\nQ 46.1875 17.53125 46.1875 27.296875 \r\nQ 46.1875 37.015625 41.984375 42.703125 \r\nQ 37.796875 48.390625 30.609375 48.390625 \r\nz\r\nM 30.609375 56 \r\nQ 42.328125 56 49.015625 48.375 \r\nQ 55.71875 40.765625 55.71875 27.296875 \r\nQ 55.71875 13.875 49.015625 6.21875 \r\nQ 42.328125 -1.421875 30.609375 -1.421875 \r\nQ 18.84375 -1.421875 12.171875 6.21875 \r\nQ 5.515625 13.875 5.515625 27.296875 \r\nQ 5.515625 40.765625 12.171875 48.375 \r\nQ 18.84375 56 30.609375 56 \r\nz\r\n\" id=\"DejaVuSans-111\"/>\r\n       <path d=\"M 8.5 21.578125 \r\nL 8.5 54.6875 \r\nL 17.484375 54.6875 \r\nL 17.484375 21.921875 \r\nQ 17.484375 14.15625 20.5 10.265625 \r\nQ 23.53125 6.390625 29.59375 6.390625 \r\nQ 36.859375 6.390625 41.078125 11.03125 \r\nQ 45.3125 15.671875 45.3125 23.6875 \r\nL 45.3125 54.6875 \r\nL 54.296875 54.6875 \r\nL 54.296875 0 \r\nL 45.3125 0 \r\nL 45.3125 8.40625 \r\nQ 42.046875 3.421875 37.71875 1 \r\nQ 33.40625 -1.421875 27.6875 -1.421875 \r\nQ 18.265625 -1.421875 13.375 4.4375 \r\nQ 8.5 10.296875 8.5 21.578125 \r\nz\r\nM 31.109375 56 \r\nz\r\n\" id=\"DejaVuSans-117\"/>\r\n       <path d=\"M 54.890625 33.015625 \r\nL 54.890625 0 \r\nL 45.90625 0 \r\nL 45.90625 32.71875 \r\nQ 45.90625 40.484375 42.875 44.328125 \r\nQ 39.84375 48.1875 33.796875 48.1875 \r\nQ 26.515625 48.1875 22.3125 43.546875 \r\nQ 18.109375 38.921875 18.109375 30.90625 \r\nL 18.109375 0 \r\nL 9.078125 0 \r\nL 9.078125 54.6875 \r\nL 18.109375 54.6875 \r\nL 18.109375 46.1875 \r\nQ 21.34375 51.125 25.703125 53.5625 \r\nQ 30.078125 56 35.796875 56 \r\nQ 45.21875 56 50.046875 50.171875 \r\nQ 54.890625 44.34375 54.890625 33.015625 \r\nz\r\n\" id=\"DejaVuSans-110\"/>\r\n       <path d=\"M 18.3125 70.21875 \r\nL 18.3125 54.6875 \r\nL 36.8125 54.6875 \r\nL 36.8125 47.703125 \r\nL 18.3125 47.703125 \r\nL 18.3125 18.015625 \r\nQ 18.3125 11.328125 20.140625 9.421875 \r\nQ 21.96875 7.515625 27.59375 7.515625 \r\nL 36.8125 7.515625 \r\nL 36.8125 0 \r\nL 27.59375 0 \r\nQ 17.1875 0 13.234375 3.875 \r\nQ 9.28125 7.765625 9.28125 18.015625 \r\nL 9.28125 47.703125 \r\nL 2.6875 47.703125 \r\nL 2.6875 54.6875 \r\nL 9.28125 54.6875 \r\nL 9.28125 70.21875 \r\nz\r\n\" id=\"DejaVuSans-116\"/>\r\n      </defs>\r\n      <use xlink:href=\"#DejaVuSans-67\"/>\r\n      <use x=\"69.824219\" xlink:href=\"#DejaVuSans-111\"/>\r\n      <use x=\"131.005859\" xlink:href=\"#DejaVuSans-117\"/>\r\n      <use x=\"194.384766\" xlink:href=\"#DejaVuSans-110\"/>\r\n      <use x=\"257.763672\" xlink:href=\"#DejaVuSans-116\"/>\r\n     </g>\r\n    </g>\r\n   </g>\r\n   <g id=\"line2d_14\">\r\n    <path clip-path=\"url(#p22ab70480f)\" d=\"M 60.52358 308.308381 \r\nL 61.886188 306.729115 \r\nL 63.248797 304.868128 \r\nL 64.611405 302.743286 \r\nL 67.336622 297.910005 \r\nL 70.061839 292.873109 \r\nL 71.424448 290.525903 \r\nL 72.787056 288.40385 \r\nL 74.149665 286.557314 \r\nL 75.512273 285.006126 \r\nL 76.874882 283.744372 \r\nL 78.23749 282.750085 \r\nL 79.600099 281.995963 \r\nL 80.962707 281.457011 \r\nL 82.325315 281.112348 \r\nL 83.687924 280.94081 \r\nL 86.413141 280.980079 \r\nL 89.138358 281.103997 \r\nL 90.500966 280.967303 \r\nL 91.863575 280.560711 \r\nL 93.226183 279.792219 \r\nL 94.588792 278.587374 \r\nL 95.9514 276.887023 \r\nL 97.314009 274.636111 \r\nL 98.676617 271.7669 \r\nL 100.039226 268.183303 \r\nL 101.401834 263.754659 \r\nL 102.764443 258.326177 \r\nL 104.127051 251.748972 \r\nL 105.48966 243.925898 \r\nL 106.852268 234.861992 \r\nL 109.577485 213.746489 \r\nL 113.665311 180.44661 \r\nL 115.027919 170.542414 \r\nL 116.390528 161.544041 \r\nL 119.115745 145.563639 \r\nL 121.840962 129.931335 \r\nL 124.566179 112.613241 \r\nL 127.291396 94.591461 \r\nL 128.654004 86.357258 \r\nL 130.016613 79.247942 \r\nL 131.379221 73.572733 \r\nL 132.74183 69.451412 \r\nL 134.104438 66.813679 \r\nL 135.467047 65.446203 \r\nL 136.829655 65.069335 \r\nL 138.192264 65.418716 \r\nL 139.554872 66.307594 \r\nL 140.917481 67.653119 \r\nL 142.280089 69.462028 \r\nL 143.642698 71.784481 \r\nL 145.005306 74.655187 \r\nL 146.367915 78.044753 \r\nL 149.093132 85.859452 \r\nL 151.818349 93.800666 \r\nL 154.543566 100.971181 \r\nL 157.268783 107.965965 \r\nL 158.631391 111.837 \r\nL 159.994 116.140905 \r\nL 162.719217 126.055086 \r\nL 168.169651 147.155548 \r\nL 170.894868 156.329642 \r\nL 177.70791 177.870427 \r\nL 180.433127 187.238479 \r\nL 183.158344 197.573514 \r\nL 184.520953 203.361113 \r\nL 185.883561 209.697506 \r\nL 188.608778 224.04429 \r\nL 194.059212 254.91972 \r\nL 195.421821 261.789983 \r\nL 196.784429 268.029372 \r\nL 198.147038 273.613153 \r\nL 199.509646 278.562486 \r\nL 200.872255 282.917836 \r\nL 202.234863 286.719403 \r\nL 203.597472 290.000095 \r\nL 204.96008 292.790363 \r\nL 206.322689 295.129327 \r\nL 207.685297 297.07478 \r\nL 209.047906 298.706027 \r\nL 211.773123 301.403105 \r\nL 218.586165 307.578711 \r\nL 219.948774 308.673154 \r\nL 221.311382 309.618936 \r\nL 222.673991 310.382695 \r\nL 224.036599 310.947938 \r\nL 225.399208 311.313766 \r\nL 226.761816 311.491061 \r\nL 228.124425 311.4985 \r\nL 229.487033 311.360073 \r\nL 232.21225 310.766581 \r\nL 236.300076 309.690585 \r\nL 237.662684 309.467533 \r\nL 239.025293 309.37731 \r\nL 240.387901 309.437507 \r\nL 241.75051 309.645322 \r\nL 244.475727 310.397626 \r\nL 248.563552 311.734737 \r\nL 251.288769 312.38024 \r\nL 254.013986 312.77524 \r\nL 259.46442 313.217301 \r\nL 266.277463 313.576935 \r\nL 273.090505 313.683884 \r\nL 308.518326 313.692976 \r\nL 319.419194 313.605316 \r\nL 326.232236 313.304932 \r\nL 331.68267 313.133922 \r\nL 331.68267 313.133922 \r\n\" style=\"fill:none;stroke:#1f77b4;stroke-linecap:square;stroke-width:1.5;\"/>\r\n   </g>\r\n   <g id=\"patch_50\">\r\n    <path d=\"M 46.965625 313.69375 \r\nL 46.965625 7.2 \r\n\" style=\"fill:none;stroke:#000000;stroke-linecap:square;stroke-linejoin:miter;stroke-width:0.8;\"/>\r\n   </g>\r\n   <g id=\"patch_51\">\r\n    <path d=\"M 46.965625 313.69375 \r\nL 345.240625 313.69375 \r\n\" style=\"fill:none;stroke:#000000;stroke-linecap:square;stroke-linejoin:miter;stroke-width:0.8;\"/>\r\n   </g>\r\n  </g>\r\n </g>\r\n <defs>\r\n  <clipPath id=\"p22ab70480f\">\r\n   <rect height=\"306.49375\" width=\"298.275\" x=\"46.965625\" y=\"7.2\"/>\r\n  </clipPath>\r\n </defs>\r\n</svg>\r\n",
      "image/png": "[encoded data removed]"
     },
     "metadata": {
      "needs_background": "light"
     }
    }
   ],
   "source": [
    "#getting view of distribution of avg price per kg \n",
    "sns.displot(df.avg_price_per_kg, kde=True)"
   ]
  },
  {
   "cell_type": "code",
   "execution_count": 115,
   "metadata": {},
   "outputs": [],
   "source": [
    "#making predictions \n",
    "# Function to fit data, make predictions, and evaluate model\n",
    "def rmse(y_test, y_pred):\n",
    "    return np.sqrt(mean_squared_error(y_pred,y_test))\n",
    "\n",
    "def r_squared(y_test, y_pred):\n",
    "    return r2_score(y_test, y_pred)\n",
    "    \n",
    "# Takes in a model, trains the model, and evaluates the model on the test set\n",
    "def fit_and_evaluate(model,X,y):\n",
    "    \n",
    "    X_train, X_test, y_train, y_test = train_test_split(X, y, test_size = 0.2,random_state=41)\n",
    "    # Train the model\n",
    "    model.fit(X_train, y_train)\n",
    "    \n",
    "    # Make predictions and evalute\n",
    "    train_pred = model.predict(X_train)\n",
    "    test_pred = model.predict(X_test)\n",
    "    \n",
    "    train_rmse = rmse(y_train, train_pred)\n",
    "    test_rmse = rmse(y_test, test_pred)\n",
    "    \n",
    "    train_r2 = r_squared(y_train, train_pred)\n",
    "    test_r2 = r_squared(y_test, test_pred)\n",
    "    \n",
    "    df = {'Train RMSE': train_rmse,'Train R^2':train_r2,'Test RMSE': test_rmse,'Test R^2':test_r2}\n",
    "    \n",
    "    return df"
   ]
  },
  {
   "cell_type": "code",
   "execution_count": 158,
   "metadata": {},
   "outputs": [],
   "source": [
    "#declaring y value because its the same throughtout the notebook\n",
    "model = LinearRegression(n_jobs=4)\n",
    "y = df.avg_price_per_kg"
   ]
  },
  {
   "cell_type": "code",
   "execution_count": 159,
   "metadata": {},
   "outputs": [
    {
     "output_type": "execute_result",
     "data": {
      "text/plain": [
       "{'Train RMSE': 2.139614421281688,\n",
       " 'Train R^2': 0.10216325427108852,\n",
       " 'Test RMSE': 2.0197026857229576,\n",
       " 'Test R^2': 0.15969535456336081}"
      ]
     },
     "metadata": {},
     "execution_count": 159
    }
   ],
   "source": [
    "# fit the model to the data and make predictions - GrLivArea\n",
    "X = df.Weight_Kg.values.reshape(-1, 1)\n",
    "fit_and_evaluate(model,X,y)"
   ]
  },
  {
   "cell_type": "code",
   "execution_count": 93,
   "metadata": {},
   "outputs": [
    {
     "output_type": "execute_result",
     "data": {
      "text/plain": [
       "{'Train RMSE': 2.2372703907677454,\n",
       " 'Train R^2': 0.018335032036834065,\n",
       " 'Test RMSE': 2.1788618037992804,\n",
       " 'Test R^2': 0.022039644564199157}"
      ]
     },
     "metadata": {},
     "execution_count": 93
    }
   ],
   "source": [
    "# fit the model to the data and make predictions - GrLivArea\n",
    "X = df.Low_Price.values.reshape(-1, 1)\n",
    "fit_and_evaluate(model,X,y)"
   ]
  },
  {
   "cell_type": "code",
   "execution_count": 163,
   "metadata": {},
   "outputs": [
    {
     "output_type": "execute_result",
     "data": {
      "text/plain": [
       "{'Train RMSE': 1.8144625671931984,\n",
       " 'Train R^2': 0.35431251474965353,\n",
       " 'Test RMSE': 1.6690675647416733,\n",
       " 'Test R^2': 0.4261350323215294}"
      ]
     },
     "metadata": {},
     "execution_count": 163
    }
   ],
   "source": [
    "# fit the model to the data and make predictions firstly to container\n",
    "X = df[['Weight_Kg','Low_Price','High_Price','Sales_Total','Total_Qty_Sold','Total_Kg_Sold','Stock_On_Hand'\t]].values\n",
    "fit_and_evaluate(model,X,y)\n",
    "\n",
    "# 'Weight_Kg''Low_Price''High_Price''Sales_Total''Total_Qty_Sold''Total_Kg_Sold'\t'Stock_On_Hand'\t"
   ]
  },
  {
   "cell_type": "code",
   "execution_count": 142,
   "metadata": {},
   "outputs": [
    {
     "output_type": "execute_result",
     "data": {
      "text/plain": [
       "array([6.67767975, 6.67351951, 6.88080461, 6.85502858, 6.90335766,\n",
       "       7.34277432, 7.6135986 , 4.64385978, 7.28907706, 5.57466609,\n",
       "       6.817253  , 7.04102765, 6.37011974, 4.33140321, 3.02979079,\n",
       "       5.85544873, 6.47167201, 7.46263447, 6.63694647, 1.92482374])"
      ]
     },
     "metadata": {},
     "execution_count": 142
    }
   ],
   "source": [
    "X = df[['Weight_Kg','Low_Price','High_Price','Sales_Total','Total_Qty_Sold','Total_Kg_Sold','Stock_On_Hand'\t]].values\n",
    "X_train, X_test, y_train, y_test = train_test_split(X, y, test_size = 0.2,random_state=4)\n",
    "model.fit(X_train, y_train)\n",
    "# new_pred = model.predict(X_test)\n",
    "# new_pred[:20]"
   ]
  },
  {
   "cell_type": "code",
   "execution_count": 123,
   "metadata": {},
   "outputs": [],
   "source": [
    "#storing model\n",
    "pkl_file = \"model.pkl\"  \n",
    "\n",
    "with open(pkl_file, 'wb') as file:  \n",
    "    pickle.dump(model, file)"
   ]
  },
  {
   "cell_type": "code",
   "execution_count": 124,
   "metadata": {},
   "outputs": [
    {
     "output_type": "execute_result",
     "data": {
      "text/plain": [
       "LinearRegression(n_jobs=-1)"
      ]
     },
     "metadata": {},
     "execution_count": 124
    }
   ],
   "source": [
    "#loading model\n",
    "with open(pkl_file, 'rb') as file:  \n",
    "    Pickled_Model = pickle.load(file)\n",
    "    \n",
    "Pickled_Model"
   ]
  },
  {
   "cell_type": "code",
   "execution_count": 83,
   "metadata": {},
   "outputs": [
    {
     "output_type": "execute_result",
     "data": {
      "text/plain": [
       "((1952, 13), (685, 12))"
      ]
     },
     "metadata": {},
     "execution_count": 83
    }
   ],
   "source": [
    "df.shape, test_df.shape"
   ]
  },
  {
   "cell_type": "code",
   "execution_count": 134,
   "metadata": {},
   "outputs": [
    {
     "output_type": "execute_result",
     "data": {
      "text/plain": [
       "array([7.27790718, 7.36944223, 7.08551263, 7.08211535, 7.25190841,\n",
       "       5.39627452, 6.76642481, 7.42829649, 7.50639921, 7.17820049])"
      ]
     },
     "metadata": {},
     "execution_count": 134
    }
   ],
   "source": [
    "pred = Pickled_Model.predict(test_df[['Weight_Kg','Low_Price','High_Price','Sales_Total','Total_Qty_Sold','Total_Kg_Sold','Stock_On_Hand']].values)\n",
    "\n",
    "pred[:10]"
   ]
  },
  {
   "cell_type": "code",
   "execution_count": 143,
   "metadata": {},
   "outputs": [],
   "source": [
    "# create submission dataframe\n",
    "# Create Dataframe of Order_No and Time from Pickup to Arrival\n",
    "submission = pd.DataFrame(\n",
    "    {'Index': test_id,\n",
    "     'avg_price_per_kg': pred\n",
    "    })"
   ]
  },
  {
   "cell_type": "code",
   "execution_count": 136,
   "metadata": {},
   "outputs": [
    {
     "output_type": "execute_result",
     "data": {
      "text/plain": [
       "   Index     Price\n",
       "0      1  7.277907\n",
       "1      2  7.369442\n",
       "2      3  7.085513\n",
       "3      4  7.082115\n",
       "4      5  7.251908"
      ],
      "text/html": "<div>\n<style scoped>\n    .dataframe tbody tr th:only-of-type {\n        vertical-align: middle;\n    }\n\n    .dataframe tbody tr th {\n        vertical-align: top;\n    }\n\n    .dataframe thead th {\n        text-align: right;\n    }\n</style>\n<table border=\"1\" class=\"dataframe\">\n  <thead>\n    <tr style=\"text-align: right;\">\n      <th></th>\n      <th>Index</th>\n      <th>Price</th>\n    </tr>\n  </thead>\n  <tbody>\n    <tr>\n      <th>0</th>\n      <td>1</td>\n      <td>7.277907</td>\n    </tr>\n    <tr>\n      <th>1</th>\n      <td>2</td>\n      <td>7.369442</td>\n    </tr>\n    <tr>\n      <th>2</th>\n      <td>3</td>\n      <td>7.085513</td>\n    </tr>\n    <tr>\n      <th>3</th>\n      <td>4</td>\n      <td>7.082115</td>\n    </tr>\n    <tr>\n      <th>4</th>\n      <td>5</td>\n      <td>7.251908</td>\n    </tr>\n  </tbody>\n</table>\n</div>"
     },
     "metadata": {},
     "execution_count": 136
    }
   ],
   "source": [
    "submission.head()"
   ]
  },
  {
   "cell_type": "code",
   "execution_count": 144,
   "metadata": {},
   "outputs": [],
   "source": [
    "# save DataFrame to csv file for submission\n",
    "submission.to_csv(\"submission.csv\", index=False)"
   ]
  },
  {
   "cell_type": "code",
   "execution_count": null,
   "metadata": {},
   "outputs": [],
   "source": []
  }
 ]
}